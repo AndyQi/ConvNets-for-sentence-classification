{
 "cells": [
  {
   "cell_type": "code",
   "execution_count": 2,
   "metadata": {},
   "outputs": [],
   "source": [
    "import os\n",
    "import random\n",
    "import numpy as np\n",
    "\n",
    "from collections import namedtuple\n",
    "\n",
    "from sklearn.preprocessing import LabelEncoder\n",
    "\n",
    "from keras.preprocessing.text import Tokenizer\n",
    "from keras.preprocessing.sequence import pad_sequences\n",
    "from keras.utils import to_categorical"
   ]
  },
  {
   "cell_type": "markdown",
   "metadata": {},
   "source": [
    "# Stanford Sentiment Treebank - movie reviews with fine-grained labels"
   ]
  },
  {
   "cell_type": "code",
   "execution_count": 3,
   "metadata": {},
   "outputs": [],
   "source": [
    "# Stanford Sentiment Treebank - movie reviews with fine-grained labels\n",
    "# https://nlp.stanford.edu/sentiment/\n",
    "\n",
    "ST_sentence = namedtuple(\"Stanford_Sentiment\", \"id sentence\")\n",
    "ST_score = namedtuple(\"Stanford_Sentiment\", \"id score\")\n",
    "\n",
    "sentences = dict()\n",
    "scores = dict()\n",
    "train = []\n",
    "dev = []\n",
    "test = []\n",
    "\n",
    "for filename in ['datasetSentences.txt','datasetSplit.txt', 'sentiment_labels.txt']:\n",
    "    with open(\"ST/\"+filename,'r') as f_input:\n",
    "        for line in f_input:\n",
    "            \n",
    "            # skip headers\n",
    "            if line.startswith(\"sentence_index\") or line.startswith('phrase id'):\n",
    "                continue\n",
    "            \n",
    "            # load sentences\n",
    "            if filename=='datasetSentences.txt':                                \n",
    "                sent_id, sentence = line.split('\\t', 1)\n",
    "                sentences[sent_id] = sentence.strip()\n",
    "            \n",
    "            # load splits\n",
    "            if filename=='datasetSplit.txt':\n",
    "                sent_id, split = line.split(',', 1)\n",
    "                split = int(split.strip())\n",
    "                if split == 1:                    \n",
    "                    train.append(sent_id)\n",
    "                if split == 2:                                        \n",
    "                    test.append(sent_id)\n",
    "                if split == 3:\n",
    "                    dev.append(sent_id)\n",
    "            \n",
    "            # sentences_id        \n",
    "            if filename=='sentiment_labels.txt':                    \n",
    "                sent_id, sent_score = line.split('|', 1)\n",
    "                #sent_score = float(sent_score.strip())\n",
    "                sample = ST_score(sent_id, float(sent_score.strip()))\n",
    "                scores[sent_id] = sent_score.strip()"
   ]
  },
  {
   "cell_type": "markdown",
   "metadata": {
    "collapsed": true
   },
   "source": [
    "# Samples and Classes/Labels"
   ]
  },
  {
   "cell_type": "code",
   "execution_count": 4,
   "metadata": {},
   "outputs": [
    {
     "name": "stdout",
     "output_type": "stream",
     "text": [
      "Total Nr. Samples: 11855\n",
      "Total Nr. Scores : 239232\n",
      "\n",
      "Train  : 8544\n",
      "Dev    : 1101\n",
      "Test   : 2210\n"
     ]
    }
   ],
   "source": [
    "print(\"Total Nr. Samples: {}\".format(len(sentences)))\n",
    "print(\"Total Nr. Scores : {}\".format(len(scores)))\n",
    "print()\n",
    "print(\"Train  : {}\".format(len(train)))\n",
    "print(\"Dev    : {}\".format(len(dev)))\n",
    "print(\"Test   : {}\".format(len(test)))"
   ]
  },
  {
   "cell_type": "code",
   "execution_count": 5,
   "metadata": {},
   "outputs": [],
   "source": [
    "# built two lists with sentences and labels\n",
    "x_train_data = [sentences[x] for x in train]\n",
    "y_train_data = [scores[x] for x in train]\n",
    "\n",
    "x_dev_data = [sentences[x] for x in dev]\n",
    "y_dev_data = [scores[x] for x in dev]\n",
    "\n",
    "x_test_data = [sentences[x] for x in test]\n",
    "y_test_data = [scores[x] for x in test]"
   ]
  },
  {
   "cell_type": "code",
   "execution_count": 6,
   "metadata": {},
   "outputs": [
    {
     "name": "stdout",
     "output_type": "stream",
     "text": [
      "Found 15337 unique tokens.\n"
     ]
    }
   ],
   "source": [
    "# convert list of tokens/words to indexes\n",
    "tokenizer = Tokenizer()\n",
    "tokenizer.fit_on_texts(x_train_data)\n",
    "sequences_train = tokenizer.texts_to_sequences(x_train_data)\n",
    "word_index = tokenizer.word_index\n",
    "print('Found %s unique tokens.' % len(word_index))"
   ]
  },
  {
   "cell_type": "code",
   "execution_count": 7,
   "metadata": {},
   "outputs": [
    {
     "data": {
      "text/plain": [
       "49"
      ]
     },
     "execution_count": 7,
     "metadata": {},
     "output_type": "execute_result"
    }
   ],
   "source": [
    "# get the max sentence lenght, needed for padding\n",
    "max_input_lenght = max([len(x) for x in sequences_train])\n",
    "max_input_lenght"
   ]
  },
  {
   "cell_type": "code",
   "execution_count": 8,
   "metadata": {},
   "outputs": [],
   "source": [
    "# pad all the sequences of indexes to the 'max_input_lenght'\n",
    "x_train_data_padded = pad_sequences(sequences_train, maxlen=max_input_lenght, padding='post', truncating='post')\n",
    "x_dev_data_padded = pad_sequences(tokenizer.texts_to_sequences(x_dev_data), maxlen=max_input_lenght, padding='post', truncating='post')\n",
    "x_test_data_padded = pad_sequences(tokenizer.texts_to_sequences(x_test_data), maxlen=max_input_lenght, padding='post', truncating='post')"
   ]
  },
  {
   "cell_type": "markdown",
   "metadata": {},
   "source": [
    "## Transform scores to classes as re-labeled by Socher et al. (2013)\n",
    "- 0 - 2.0    : very negative\n",
    "- 2.0 - 4.0  : negative\n",
    "- 4.0 - 6.0  : neutral\n",
    "- 6.0 - 8.0  : negative\n",
    "- 8.0 - 10.0 : very positive"
   ]
  },
  {
   "cell_type": "code",
   "execution_count": 9,
   "metadata": {},
   "outputs": [],
   "source": [
    "def convert_to_categories(y_data):\n",
    "    y_categories = []\n",
    "    for score in y_data:\n",
    "        if 0.0<=float(score)<0.2:\n",
    "            y_categories.append('very_negative')\n",
    "        elif 0.2<=float(score)<0.4:\n",
    "            y_categories.append('negative')\n",
    "        elif 0.4<=float(score)<0.6:\n",
    "            y_categories.append('neutral')\n",
    "        elif 0.6<=float(score)<0.8:\n",
    "            y_categories.append('positive')\n",
    "        elif 0.8<=float(score)<=1.0:\n",
    "            y_categories.append('very positive')\n",
    "            \n",
    "    return y_categories"
   ]
  },
  {
   "cell_type": "code",
   "execution_count": 10,
   "metadata": {},
   "outputs": [],
   "source": [
    "# Convert from scores to categories\n",
    "y_train_data_categ = convert_to_categories(y_train_data)\n",
    "y_dev_data_categ = convert_to_categories(y_dev_data)\n",
    "y_test_data_categ = convert_to_categories(y_test_data)\n",
    "\n",
    "# Encode the labels, each must be a vector with dim = num. of possible labels\n",
    "le = LabelEncoder()\n",
    "le.fit(y_train_data_categ)\n",
    "\n",
    "labels_encoded_train = le.transform(y_train_data_categ)\n",
    "labels_encoded_dev = le.transform(y_dev_data_categ)\n",
    "labels_encoded_test = le.transform(y_test_data_categ)\n",
    "\n",
    "categorical_labels_train = to_categorical(labels_encoded_train, num_classes=None)\n",
    "categorical_labels_dev = to_categorical(labels_encoded_dev, num_classes=None)\n",
    "categorical_labels_test = to_categorical(labels_encoded_test, num_classes=None)"
   ]
  },
  {
   "cell_type": "code",
   "execution_count": 11,
   "metadata": {},
   "outputs": [
    {
     "name": "stdout",
     "output_type": "stream",
     "text": [
      "(8544, 49)\n",
      "(8544, 5)\n"
     ]
    }
   ],
   "source": [
    "print(x_train_data_padded.shape)\n",
    "print(categorical_labels_train.shape)"
   ]
  },
  {
   "cell_type": "code",
   "execution_count": 12,
   "metadata": {},
   "outputs": [
    {
     "name": "stdout",
     "output_type": "stream",
     "text": [
      "(1101, 49)\n",
      "(1101,)\n"
     ]
    }
   ],
   "source": [
    "print(x_dev_data_padded.shape)\n",
    "print(labels_encoded_dev.shape)"
   ]
  },
  {
   "cell_type": "code",
   "execution_count": 13,
   "metadata": {
    "scrolled": true
   },
   "outputs": [
    {
     "name": "stdout",
     "output_type": "stream",
     "text": [
      "(2210, 49)\n",
      "(2210, 5)\n"
     ]
    }
   ],
   "source": [
    "print(x_test_data_padded.shape)\n",
    "print(categorical_labels_test.shape)"
   ]
  },
  {
   "cell_type": "code",
   "execution_count": 14,
   "metadata": {},
   "outputs": [],
   "source": [
    "from convnets_utils import *"
   ]
  },
  {
   "cell_type": "markdown",
   "metadata": {},
   "source": [
    "# CNN with random word embeddings"
   ]
  },
  {
   "cell_type": "code",
   "execution_count": 16,
   "metadata": {},
   "outputs": [],
   "source": [
    "model_1 = get_cnn_rand(200, len(word_index)+1, max_input_lenght, 5)"
   ]
  },
  {
   "cell_type": "code",
   "execution_count": 22,
   "metadata": {},
   "outputs": [
    {
     "name": "stdout",
     "output_type": "stream",
     "text": [
      "Epoch 1/15\n",
      "8544/8544 [==============================] - 10s 1ms/step - loss: 0.4060 - acc: 0.8197\n",
      "Epoch 2/15\n",
      "8544/8544 [==============================] - 12s 1ms/step - loss: 0.3989 - acc: 0.8251\n",
      "Epoch 3/15\n",
      "8544/8544 [==============================] - 13s 2ms/step - loss: 0.3889 - acc: 0.8329\n",
      "Epoch 4/15\n",
      "8544/8544 [==============================] - 13s 1ms/step - loss: 0.3720 - acc: 0.8452\n",
      "Epoch 5/15\n",
      "8544/8544 [==============================] - 13s 1ms/step - loss: 0.3492 - acc: 0.8572\n",
      "Epoch 6/15\n",
      "8544/8544 [==============================] - 14s 2ms/step - loss: 0.3265 - acc: 0.8672\n",
      "Epoch 7/15\n",
      "8544/8544 [==============================] - 14s 2ms/step - loss: 0.3051 - acc: 0.8771\n",
      "Epoch 8/15\n",
      "8544/8544 [==============================] - 13s 2ms/step - loss: 0.2851 - acc: 0.8856\n",
      "Epoch 9/15\n",
      "8544/8544 [==============================] - 14s 2ms/step - loss: 0.2706 - acc: 0.8910\n",
      "Epoch 10/15\n",
      "8544/8544 [==============================] - 13s 2ms/step - loss: 0.2501 - acc: 0.9007\n",
      "Epoch 11/15\n",
      "8544/8544 [==============================] - 14s 2ms/step - loss: 0.2354 - acc: 0.9070\n",
      "Epoch 12/15\n",
      "8544/8544 [==============================] - 13s 2ms/step - loss: 0.2167 - acc: 0.9146\n",
      "Epoch 13/15\n",
      "8544/8544 [==============================] - 11s 1ms/step - loss: 0.2057 - acc: 0.9207\n",
      "Epoch 14/15\n",
      "8544/8544 [==============================] - 13s 2ms/step - loss: 0.1928 - acc: 0.9259\n",
      "Epoch 15/15\n",
      "8544/8544 [==============================] - 13s 2ms/step - loss: 0.1837 - acc: 0.9294\n"
     ]
    }
   ],
   "source": [
    "history = model_1.fit(x=x_train_data_padded, y=categorical_labels_train, batch_size=50, epochs=15)"
   ]
  },
  {
   "cell_type": "code",
   "execution_count": 23,
   "metadata": {},
   "outputs": [
    {
     "data": {
      "text/plain": [
       "0.8022624346465547"
      ]
     },
     "execution_count": 23,
     "metadata": {},
     "output_type": "execute_result"
    }
   ],
   "source": [
    "loss, accuracy = model_1.evaluate(x_test_data_padded, categorical_labels_test, verbose=0)\n",
    "accuracy"
   ]
  },
  {
   "cell_type": "code",
   "execution_count": 24,
   "metadata": {},
   "outputs": [
    {
     "name": "stdout",
     "output_type": "stream",
     "text": [
      "               precision    recall  f1-score   support\n",
      "\n",
      "     negative       0.20      0.07      0.11       405\n",
      "      neutral       0.52      0.75      0.62      1155\n",
      "     positive       0.17      0.16      0.16       424\n",
      "very positive       0.00      0.00      0.00       112\n",
      "very_negative       0.00      0.00      0.00       114\n",
      "\n",
      "    micro avg       0.44      0.44      0.44      2210\n",
      "    macro avg       0.18      0.20      0.18      2210\n",
      " weighted avg       0.34      0.44      0.37      2210\n",
      "\n"
     ]
    }
   ],
   "source": [
    "raw_predictions = model_1.predict(x_test_data_padded)\n",
    "class_predictions = [np.argmax(x) for x in raw_predictions]\n",
    "print(classification_report(y_test_data_categ, le.inverse_transform(class_predictions)))"
   ]
  },
  {
   "cell_type": "markdown",
   "metadata": {},
   "source": [
    "# CNN with pre-trained static word embeddings"
   ]
  },
  {
   "cell_type": "code",
   "execution_count": 25,
   "metadata": {},
   "outputs": [
    {
     "name": "stdout",
     "output_type": "stream",
     "text": [
      "Loaded 400000 word vectors.\n",
      "Matrix shape: (15338, 100)\n"
     ]
    }
   ],
   "source": [
    "embeddings_index = load_fasttext_embeddings()\n",
    "embeddings_matrix = create_embeddings_matrix(embeddings_index, word_index, 100)\n",
    "embedding_layer_static = get_embeddings_layer(embeddings_matrix, 'embedding_layer_static', max_input_lenght, trainable=False)\n",
    "model_2 = get_cnn_pre_trained_embeddings(embedding_layer_static, max_input_lenght, 5)"
   ]
  },
  {
   "cell_type": "code",
   "execution_count": 26,
   "metadata": {},
   "outputs": [
    {
     "name": "stdout",
     "output_type": "stream",
     "text": [
      "Epoch 1/15\n",
      "8544/8544 [==============================] - 3s 382us/step - loss: 0.4276 - acc: 0.8073\n",
      "Epoch 2/15\n",
      "8544/8544 [==============================] - 3s 314us/step - loss: 0.3882 - acc: 0.8293\n",
      "Epoch 3/15\n",
      "8544/8544 [==============================] - 3s 321us/step - loss: 0.3592 - acc: 0.8464\n",
      "Epoch 4/15\n",
      "8544/8544 [==============================] - 3s 321us/step - loss: 0.3265 - acc: 0.8634\n",
      "Epoch 5/15\n",
      "8544/8544 [==============================] - 3s 329us/step - loss: 0.2845 - acc: 0.8890\n",
      "Epoch 6/15\n",
      "8544/8544 [==============================] - 3s 366us/step - loss: 0.2431 - acc: 0.9101\n",
      "Epoch 7/15\n",
      "8544/8544 [==============================] - 3s 367us/step - loss: 0.2006 - acc: 0.9334\n",
      "Epoch 8/15\n",
      "8544/8544 [==============================] - 3s 335us/step - loss: 0.1628 - acc: 0.9537\n",
      "Epoch 9/15\n",
      "8544/8544 [==============================] - 3s 336us/step - loss: 0.1326 - acc: 0.9667\n",
      "Epoch 10/15\n",
      "8544/8544 [==============================] - 3s 342us/step - loss: 0.1063 - acc: 0.9780\n",
      "Epoch 11/15\n",
      "8544/8544 [==============================] - 3s 355us/step - loss: 0.0850 - acc: 0.9860\n",
      "Epoch 12/15\n",
      "8544/8544 [==============================] - 3s 356us/step - loss: 0.0695 - acc: 0.9901\n",
      "Epoch 13/15\n",
      "8544/8544 [==============================] - 3s 366us/step - loss: 0.0574 - acc: 0.9931\n",
      "Epoch 14/15\n",
      "8544/8544 [==============================] - 3s 351us/step - loss: 0.0467 - acc: 0.9950\n",
      "Epoch 15/15\n",
      "8544/8544 [==============================] - 3s 374us/step - loss: 0.0382 - acc: 0.9964\n"
     ]
    }
   ],
   "source": [
    "history = model_2.fit(x=x_train_data_padded, y=categorical_labels_train, batch_size=50, epochs=15)"
   ]
  },
  {
   "cell_type": "code",
   "execution_count": 27,
   "metadata": {},
   "outputs": [
    {
     "data": {
      "text/plain": [
       "0.7961085978136883"
      ]
     },
     "execution_count": 27,
     "metadata": {},
     "output_type": "execute_result"
    }
   ],
   "source": [
    "loss, accuracy = model_2.evaluate(x_test_data_padded, categorical_labels_test, verbose=0)\n",
    "accuracy"
   ]
  },
  {
   "cell_type": "code",
   "execution_count": 28,
   "metadata": {},
   "outputs": [
    {
     "name": "stdout",
     "output_type": "stream",
     "text": [
      "               precision    recall  f1-score   support\n",
      "\n",
      "     negative       0.17      0.06      0.09       405\n",
      "      neutral       0.52      0.82      0.64      1155\n",
      "     positive       0.20      0.10      0.14       424\n",
      "very positive       0.00      0.00      0.00       112\n",
      "very_negative       0.00      0.00      0.00       114\n",
      "\n",
      "    micro avg       0.46      0.46      0.46      2210\n",
      "    macro avg       0.18      0.20      0.17      2210\n",
      " weighted avg       0.34      0.46      0.38      2210\n",
      "\n"
     ]
    }
   ],
   "source": [
    "raw_predictions = model_2.predict(x_test_data_padded)\n",
    "class_predictions = [np.argmax(x) for x in raw_predictions]\n",
    "print(classification_report(y_test_data_categ, le.inverse_transform(class_predictions)))"
   ]
  },
  {
   "cell_type": "markdown",
   "metadata": {},
   "source": [
    "# CNN with pre-trained dynamic word embeddings"
   ]
  },
  {
   "cell_type": "code",
   "execution_count": 48,
   "metadata": {},
   "outputs": [],
   "source": [
    "embedding_layer_dynamic = get_embeddings_layer(embeddings_matrix, 'embedding_layer_dynamic', \n",
    "                                               max_input_lenght, trainable=True)\n",
    "\n",
    "model_3 = get_cnn_pre_trained_embeddings(embedding_layer_dynamic, max_input_lenght, 5)"
   ]
  },
  {
   "cell_type": "code",
   "execution_count": 49,
   "metadata": {
    "scrolled": true
   },
   "outputs": [
    {
     "name": "stdout",
     "output_type": "stream",
     "text": [
      "Epoch 1/5\n",
      "8544/8544 [==============================] - 7s 778us/step - loss: 0.4227 - acc: 0.8091\n",
      "Epoch 2/5\n",
      "8544/8544 [==============================] - 6s 673us/step - loss: 0.3724 - acc: 0.8432\n",
      "Epoch 3/5\n",
      "8544/8544 [==============================] - 6s 667us/step - loss: 0.3226 - acc: 0.8689\n",
      "Epoch 4/5\n",
      "8544/8544 [==============================] - 6s 679us/step - loss: 0.2596 - acc: 0.9012\n",
      "Epoch 5/5\n",
      "8544/8544 [==============================] - 6s 753us/step - loss: 0.1828 - acc: 0.9419\n"
     ]
    }
   ],
   "source": [
    "history = model_3.fit(x=x_train_data_padded, y=categorical_labels_train, \n",
    "                      batch_size=50, \n",
    "                      epochs=5)"
   ]
  },
  {
   "cell_type": "code",
   "execution_count": 50,
   "metadata": {},
   "outputs": [
    {
     "data": {
      "text/plain": [
       "0.8028959267819089"
      ]
     },
     "execution_count": 50,
     "metadata": {},
     "output_type": "execute_result"
    }
   ],
   "source": [
    "loss, accuracy = model_3.evaluate(x_test_data_padded, categorical_labels_test, verbose=0)\n",
    "accuracy"
   ]
  },
  {
   "cell_type": "code",
   "execution_count": 51,
   "metadata": {},
   "outputs": [
    {
     "name": "stdout",
     "output_type": "stream",
     "text": [
      "               precision    recall  f1-score   support\n",
      "\n",
      "     negative       0.17      0.05      0.07       405\n",
      "      neutral       0.52      0.91      0.66      1155\n",
      "     positive       0.22      0.03      0.06       424\n",
      "very positive       0.00      0.00      0.00       112\n",
      "very_negative       0.00      0.00      0.00       114\n",
      "\n",
      "    micro avg       0.49      0.49      0.49      2210\n",
      "    macro avg       0.18      0.20      0.16      2210\n",
      " weighted avg       0.35      0.49      0.37      2210\n",
      "\n"
     ]
    }
   ],
   "source": [
    "raw_predictions = model_3.predict(x_test_data_padded)\n",
    "class_predictions = [np.argmax(x) for x in raw_predictions]\n",
    "print(classification_report(y_test_data_categ, le.inverse_transform(class_predictions)))"
   ]
  },
  {
   "cell_type": "markdown",
   "metadata": {},
   "source": [
    "# CNN multichanell with pre-trained dynamic and static word embeddings"
   ]
  },
  {
   "cell_type": "code",
   "execution_count": 56,
   "metadata": {},
   "outputs": [],
   "source": [
    "model_4 = get_cnn_multichannel(embedding_layer_static, embedding_layer_dynamic, max_input_lenght, 5)"
   ]
  },
  {
   "cell_type": "code",
   "execution_count": 57,
   "metadata": {},
   "outputs": [
    {
     "name": "stdout",
     "output_type": "stream",
     "text": [
      "Train on 5724 samples, validate on 2820 samples\n",
      "Epoch 1/5\n",
      "5724/5724 [==============================] - 7s 1ms/step - loss: 0.4054 - acc: 0.8350 - val_loss: 0.3398 - val_acc: 0.8639\n",
      "Epoch 2/5\n",
      "5724/5724 [==============================] - 6s 1ms/step - loss: 0.2479 - acc: 0.9127 - val_loss: 0.2642 - val_acc: 0.8994\n",
      "Epoch 3/5\n",
      "5724/5724 [==============================] - 7s 1ms/step - loss: 0.1488 - acc: 0.9530 - val_loss: 0.2619 - val_acc: 0.8965\n",
      "Epoch 4/5\n",
      "5724/5724 [==============================] - 7s 1ms/step - loss: 0.0882 - acc: 0.9761 - val_loss: 0.2501 - val_acc: 0.8996\n",
      "Epoch 5/5\n",
      "5724/5724 [==============================] - 7s 1ms/step - loss: 0.0514 - acc: 0.9902 - val_loss: 0.2610 - val_acc: 0.8979\n"
     ]
    }
   ],
   "source": [
    "history = model_4.fit(x=[x_train_data_padded,x_train_data_padded], y=categorical_labels_train, \n",
    "                      batch_size=50, \n",
    "                      epochs=5,\n",
    "                      validation_split=0.33)"
   ]
  },
  {
   "cell_type": "code",
   "execution_count": 58,
   "metadata": {},
   "outputs": [
    {
     "data": {
      "text/plain": [
       "0.7857013592353234"
      ]
     },
     "execution_count": 58,
     "metadata": {},
     "output_type": "execute_result"
    }
   ],
   "source": [
    "loss, accuracy = model_4.evaluate(x=[x_test_data_padded,x_test_data_padded], y=categorical_labels_test, verbose=0)\n",
    "accuracy"
   ]
  },
  {
   "cell_type": "code",
   "execution_count": 59,
   "metadata": {},
   "outputs": [
    {
     "name": "stdout",
     "output_type": "stream",
     "text": [
      "               precision    recall  f1-score   support\n",
      "\n",
      "     negative       0.17      0.13      0.15       405\n",
      "      neutral       0.52      0.71      0.60      1155\n",
      "     positive       0.21      0.14      0.17       424\n",
      "very positive       0.00      0.00      0.00       112\n",
      "very_negative       0.00      0.00      0.00       114\n",
      "\n",
      "    micro avg       0.42      0.42      0.42      2210\n",
      "    macro avg       0.18      0.20      0.18      2210\n",
      " weighted avg       0.34      0.42      0.37      2210\n",
      "\n"
     ]
    }
   ],
   "source": [
    "raw_predictions = model_4.predict(x=[x_test_data_padded,x_test_data_padded])\n",
    "class_predictions = [np.argmax(x) for x in raw_predictions]\n",
    "print(classification_report(y_test_data_categ, le.inverse_transform(class_predictions)))"
   ]
  }
 ],
 "metadata": {
  "kernelspec": {
   "display_name": "Python 3",
   "language": "python",
   "name": "python3"
  },
  "language_info": {
   "codemirror_mode": {
    "name": "ipython",
    "version": 3
   },
   "file_extension": ".py",
   "mimetype": "text/x-python",
   "name": "python",
   "nbconvert_exporter": "python",
   "pygments_lexer": "ipython3",
   "version": "3.6.5"
  }
 },
 "nbformat": 4,
 "nbformat_minor": 2
}
