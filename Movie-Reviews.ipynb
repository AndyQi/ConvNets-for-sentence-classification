{
 "cells": [
  {
   "cell_type": "code",
   "execution_count": 53,
   "metadata": {
    "collapsed": true
   },
   "outputs": [],
   "source": [
    "import re\n",
    "import os\n",
    "import random\n",
    "import numpy as np\n",
    "\n",
    "from collections import namedtuple"
   ]
  },
  {
   "cell_type": "markdown",
   "metadata": {},
   "source": [
    "# Movie reviews with one sentence per review"
   ]
  },
  {
   "cell_type": "code",
   "execution_count": 280,
   "metadata": {
    "collapsed": true,
    "scrolled": false
   },
   "outputs": [],
   "source": [
    "# Movie reviews with one sentence per review.\n",
    "# https://www.cs.cornell.edu/people/pabo/movie-review-data/\n",
    "\n",
    "# fold 1: files tagged cv000 through cv099, in numerical order\n",
    "# fold 2: files tagged cv100 through cv199, in numerical order\n",
    "# fold 10: files tagged cv900 through cv999, in numerical order\n",
    "\n",
    "x_folds = [list() for _ in range(10)]\n",
    "y_folds = [list() for _ in range(10)]\n",
    "\n",
    "for directory in ['MR/txt_sentoken/pos/','MR/txt_sentoken/neg/'] :\n",
    "    for filename in os.listdir(directory) + os.listdir(directory):\n",
    "        label = directory.split(\"/\")[-2]        \n",
    "        fold = int(filename.split(\"_\")[0][2])\n",
    "        with open(directory+filename,'r') as f_input:\n",
    "            for line in f_input:\n",
    "                x_folds[fold].append(line.strip())\n",
    "                y_folds[fold].append(label)"
   ]
  },
  {
   "cell_type": "code",
   "execution_count": 253,
   "metadata": {},
   "outputs": [
    {
     "name": "stdout",
     "output_type": "stream",
     "text": [
      "Found 43296 unique tokens.\n"
     ]
    }
   ],
   "source": [
    "# convert list of tokens/words to indexes\n",
    "x_all = [sentence for fold in x_folds for sentence in fold]\n",
    "\n",
    "tokenizer = Tokenizer()\n",
    "tokenizer.fit_on_texts(x_all)\n",
    "sequences_train = tokenizer.texts_to_sequences(x_all)\n",
    "word_index = tokenizer.word_index\n",
    "print('Found %s unique tokens.' % len(word_index))"
   ]
  },
  {
   "cell_type": "code",
   "execution_count": 269,
   "metadata": {},
   "outputs": [
    {
     "name": "stdout",
     "output_type": "stream",
     "text": [
      "Max. sequence lenght:  887\n"
     ]
    }
   ],
   "source": [
    "# get the max sentence lenght, needed for padding\n",
    "max_input_lenght = max([len(x) for x in x_all])\n",
    "print(\"Max. sequence lenght: \", max_input_lenght)"
   ]
  },
  {
   "cell_type": "code",
   "execution_count": 273,
   "metadata": {
    "collapsed": true
   },
   "outputs": [],
   "source": [
    "# pad all the sequences of indexes to the 'max_input_lenght'\n",
    "x_folds_padded = []\n",
    "for fold in x_folds:\n",
    "    tokenized_fold = tokenizer.texts_to_sequences(fold)\n",
    "    x_folds_padded.append(pad_sequences(tokenized_fold, maxlen=max_input_lenght, padding='post', truncating='post'))"
   ]
  },
  {
   "cell_type": "code",
   "execution_count": 278,
   "metadata": {},
   "outputs": [
    {
     "name": "stdout",
     "output_type": "stream",
     "text": [
      "(12646, 887) (12646,)\n",
      "(12358, 887) (12358,)\n",
      "(12402, 887) (12402,)\n",
      "(12758, 887) (12758,)\n",
      "(13362, 887) (13362,)\n",
      "(13230, 887) (13230,)\n",
      "(13834, 887) (13834,)\n",
      "(13188, 887) (13188,)\n",
      "(12440, 887) (12440,)\n",
      "(13222, 887) (13222,)\n"
     ]
    }
   ],
   "source": [
    "for x, y in zip(x_folds_padded, y_folds):\n",
    "    print(x.shape, np.array(y).shape)"
   ]
  }
 ],
 "metadata": {
  "kernelspec": {
   "display_name": "Python 3",
   "language": "python",
   "name": "python3"
  },
  "language_info": {
   "codemirror_mode": {
    "name": "ipython",
    "version": 3
   },
   "file_extension": ".py",
   "mimetype": "text/x-python",
   "name": "python",
   "nbconvert_exporter": "python",
   "pygments_lexer": "ipython3",
   "version": "3.6.2"
  }
 },
 "nbformat": 4,
 "nbformat_minor": 2
}
