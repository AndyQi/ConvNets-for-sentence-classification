{
 "cells": [
  {
   "cell_type": "code",
   "execution_count": 4,
   "metadata": {},
   "outputs": [],
   "source": [
    "import re\n",
    "import os\n",
    "import random\n",
    "import numpy as np\n",
    "\n",
    "from IPython.display import SVG\n",
    "\n",
    "from collections import namedtuple\n",
    "\n",
    "os.environ['PYTHONHASHSEED'] = '0'\n",
    "np.random.seed(42)\n",
    "random.seed(12345)\n",
    "\n",
    "from keras.models import Sequential, Model\n",
    "from keras.layers import Input, Dense, Embedding, Flatten\n",
    "from keras.layers import Conv1D, MaxPooling1D\n",
    "from keras.layers import concatenate\n",
    "from keras.preprocessing.text import Tokenizer\n",
    "from keras.preprocessing.sequence import pad_sequences\n",
    "from keras.utils.np_utils import to_categorical\n",
    "from keras.utils.vis_utils import model_to_dot\n",
    "\n",
    "from sklearn.preprocessing import LabelEncoder\n",
    "from sklearn.metrics import classification_report"
   ]
  },
  {
   "cell_type": "markdown",
   "metadata": {},
   "source": [
    "# Datasets"
   ]
  },
  {
   "cell_type": "markdown",
   "metadata": {},
   "source": [
    "## TREC - Question Answering"
   ]
  },
  {
   "cell_type": "code",
   "execution_count": 5,
   "metadata": {},
   "outputs": [
    {
     "name": "stdout",
     "output_type": "stream",
     "text": [
      "Train Samples: 5381\n",
      "Test Samples : 500\n"
     ]
    }
   ],
   "source": [
    "# TREC - Question Answering\n",
    "# http://cogcomp.cs.illinois.edu/Data/QA/QC/\n",
    "\n",
    "TREC_Question = namedtuple(\"TREC_Question\", \"label question\")\n",
    "\n",
    "trec_train = set()\n",
    "trec_test = set()\n",
    "\n",
    "for filename in os.listdir(\"TREC/\"):\n",
    "    with open(\"TREC/\"+filename,'r', encoding='latin_1') as f_input:\n",
    "        for line in f_input:\n",
    "            label, question = line.split(' ', 1)\n",
    "            label = label.split(':')[0]\n",
    "            question = TREC_Question(label, question)\n",
    "            if filename=='TREC_10.label':\n",
    "                trec_test.add(question)\n",
    "            else:\n",
    "                trec_train.add(question)\n",
    "\n",
    "print(\"Train Samples: {}\".format(len(trec_train)))\n",
    "print(\"Test Samples : {}\".format(len(trec_test)))"
   ]
  },
  {
   "cell_type": "markdown",
   "metadata": {},
   "source": [
    "## Stanford Sentiment Treebank - movie reviews with fine-grained labels"
   ]
  },
  {
   "cell_type": "code",
   "execution_count": 7,
   "metadata": {},
   "outputs": [
    {
     "name": "stdout",
     "output_type": "stream",
     "text": [
      "Total Nr. Samples: 11855\n",
      "Total Nr. Scores : 239232\n",
      "Train  : 8544\n",
      "Dev    : 1101\n",
      "Test   : 2210\n"
     ]
    }
   ],
   "source": [
    "# Stanford Sentiment Treebank - movie reviews with fine-grained labels\n",
    "# https://nlp.stanford.edu/sentiment/\n",
    "\n",
    "ST_sentence = namedtuple(\"Stanford_Sentiment\", \"id sentence\")\n",
    "ST_score = namedtuple(\"Stanford_Sentiment\", \"id score\")\n",
    "\n",
    "sentences = []\n",
    "scores = []\n",
    "train = []\n",
    "dev = []\n",
    "test = []\n",
    "\n",
    "for filename in ['datasetSentences.txt','datasetSplit.txt', 'sentiment_labels.txt']:\n",
    "    with open(\"ST/\"+filename,'r') as f_input:\n",
    "        for line in f_input:\n",
    "            \n",
    "            # skip headers\n",
    "            if line.startswith(\"sentence_index\") or line.startswith('phrase id'):\n",
    "                    continue\n",
    "            \n",
    "            # load sentences\n",
    "            if filename=='datasetSentences.txt':                                \n",
    "                sent_id, sentence = line.split('\\t', 1)\n",
    "                sample = ST_sentence(sent_id, sentence)\n",
    "                sentences.append(sample)\n",
    "            \n",
    "            # load splits\n",
    "            if filename=='datasetSplit.txt':\n",
    "                sent_id, split = line.split(',', 1)\n",
    "                split = int(split.strip())\n",
    "                if split == 1:                    \n",
    "                    train.append(sent_id)\n",
    "                if split == 2:                                        \n",
    "                    test.append(sent_id)\n",
    "                if split == 3:\n",
    "                    dev.append(sent_id)\n",
    "            \n",
    "            # sentences_id        \n",
    "            if filename=='sentiment_labels.txt':                    \n",
    "                sent_id, sent_score = line.split('|', 1)\n",
    "                sample = ST_score(sent_id, sent_score)\n",
    "                scores.append(sample)\n",
    "                    \n",
    "print(\"Total Nr. Samples: {}\".format(len(sentences)))\n",
    "print(\"Total Nr. Scores : {}\".format(len(scores)))\n",
    "print(\"Train  : {}\".format(len(train)))\n",
    "print(\"Dev    : {}\".format(len(dev)))\n",
    "print(\"Test   : {}\".format(len(test)))"
   ]
  },
  {
   "cell_type": "markdown",
   "metadata": {},
   "source": [
    "## Movie reviews with one sentence per review"
   ]
  },
  {
   "cell_type": "code",
   "execution_count": 9,
   "metadata": {
    "scrolled": false
   },
   "outputs": [
    {
     "name": "stdout",
     "output_type": "stream",
     "text": [
      "0 6298\n",
      "1 6138\n",
      "2 6162\n",
      "3 6357\n",
      "4 6655\n",
      "5 6589\n",
      "6 6883\n",
      "7 6551\n",
      "8 6193\n",
      "9 6586\n"
     ]
    }
   ],
   "source": [
    "# Movie reviews with one sentence per review.\n",
    "# https://www.cs.cornell.edu/people/pabo/movie-review-data/\n",
    "\n",
    "# fold 1: files tagged cv000 through cv099, in numerical order\n",
    "# fold 2: files tagged cv100 through cv199, in numerical order\n",
    "# fold 10: files tagged cv900 through cv999, in numerical order\n",
    "\n",
    "folds = [set() for _ in range(10)]\n",
    "Review = namedtuple(\"MovieReview\", \"label sentence\")\n",
    "\n",
    "for directory in ['MR/txt_sentoken/pos/','MR/txt_sentoken/neg/'] :\n",
    "    for filename in os.listdir(directory) + os.listdir(directory):\n",
    "        label = directory.split(\"/\")[-2]        \n",
    "        fold = int(filename.split(\"_\")[0][2])\n",
    "        with open(directory+filename,'r') as f_input:\n",
    "            for line in f_input:\n",
    "                sample = Review(label,line.strip())\n",
    "                folds[fold].add(sample)\n",
    "\n",
    "for i, x in enumerate(folds):\n",
    "    print(i, len(x))"
   ]
  },
  {
   "cell_type": "markdown",
   "metadata": {},
   "source": [
    "## Customer Review"
   ]
  },
  {
   "cell_type": "code",
   "execution_count": 15,
   "metadata": {},
   "outputs": [
    {
     "name": "stdout",
     "output_type": "stream",
     "text": [
      "Apex AD2600 Progressive-scan DVD player.txt\n",
      "195\n",
      "Canon G3.txt\n",
      "56\n",
      "Creative Labs Nomad Jukebox Zen Xtra 40GB.txt\n",
      "302\n",
      "Nikon coolpix 4300.txt\n",
      "31\n",
      "Nokia 6610.txt\n",
      "79\n"
     ]
    }
   ],
   "source": [
    "# CR: http://www.cs.uic.edu/~liub/FBS/sentiment-analysis.html\n",
    "\n",
    "CustomerReview = namedtuple(\"Customer_Review\", \"label sentence\")\n",
    "data = []\n",
    "\n",
    "for filename in os.listdir('CR/'):\n",
    "    if filename=='Readme.txt':\n",
    "        continue\n",
    "    print(filename)\n",
    "    with open('CR/'+filename,'r') as f_input:\n",
    "        for line in f_input:\n",
    "            if line.startswith(\"*\"):\n",
    "                continue\n",
    "            # select only lines with an opinion over a feature of the product\n",
    "            m = re.match(r'.*\\[(\\-?[0-9])\\].*',line)\n",
    "            if m:\n",
    "                sentence = line.split('##')[1]\n",
    "                label = m.group(1)\n",
    "                data.append(CustomerReview(label, sentence))\n",
    "    print(len(data))"
   ]
  },
  {
   "cell_type": "code",
   "execution_count": 14,
   "metadata": {},
   "outputs": [
    {
     "data": {
      "text/plain": [
       "Customer_Review(label='-3', sentence=\"apex does n't answer the phone . \\n\")"
      ]
     },
     "execution_count": 14,
     "metadata": {},
     "output_type": "execute_result"
    }
   ],
   "source": [
    "data[11]"
   ]
  },
  {
   "cell_type": "code",
   "execution_count": null,
   "metadata": {
    "collapsed": true
   },
   "outputs": [],
   "source": []
  },
  {
   "cell_type": "code",
   "execution_count": null,
   "metadata": {
    "collapsed": true
   },
   "outputs": [],
   "source": []
  },
  {
   "cell_type": "code",
   "execution_count": 16,
   "metadata": {
    "collapsed": true
   },
   "outputs": [],
   "source": [
    "# Subj\n",
    "#http://www.cs.cornell.edu/home/llee/data/search-subj.html"
   ]
  },
  {
   "cell_type": "code",
   "execution_count": null,
   "metadata": {
    "collapsed": true
   },
   "outputs": [],
   "source": []
  },
  {
   "cell_type": "code",
   "execution_count": null,
   "metadata": {
    "collapsed": true
   },
   "outputs": [],
   "source": []
  },
  {
   "cell_type": "code",
   "execution_count": null,
   "metadata": {
    "collapsed": true
   },
   "outputs": [],
   "source": []
  },
  {
   "cell_type": "code",
   "execution_count": null,
   "metadata": {
    "collapsed": true
   },
   "outputs": [],
   "source": []
  },
  {
   "cell_type": "code",
   "execution_count": null,
   "metadata": {
    "collapsed": true
   },
   "outputs": [],
   "source": []
  },
  {
   "cell_type": "markdown",
   "metadata": {},
   "source": [
    "## Prepare training data for input to neural network"
   ]
  },
  {
   "cell_type": "code",
   "execution_count": 18,
   "metadata": {},
   "outputs": [
    {
     "name": "stdout",
     "output_type": "stream",
     "text": [
      "Found 8461 unique tokens.\n",
      "Shape of train data tensor: (5381, 37)\n",
      "Shape of train label tensor: (5381, 6)\n"
     ]
    }
   ],
   "source": [
    "max_len = max([len(x.question.split()) for x in trec_train])\n",
    "questions_train = [x.question for x in trec_train]\n",
    "labels_train = [x.label for x in trec_train]\n",
    "\n",
    "# Convert words to indexes\n",
    "tokenizer = Tokenizer()\n",
    "tokenizer.fit_on_texts(questions_train)\n",
    "sequences_train = tokenizer.texts_to_sequences(questions_train)\n",
    "word_index = tokenizer.word_index\n",
    "print('Found %s unique tokens.' % len(word_index))\n",
    "\n",
    "# Pad the sequences to the 'max_len'\n",
    "data_train = pad_sequences(sequences_train, maxlen=max_len)\n",
    "\n",
    "# Encode the labels, each must be a vector with dim = num. of possible labels\n",
    "le = LabelEncoder()\n",
    "le.fit(labels_train)\n",
    "labels_encoded_train = le.transform(labels_train)\n",
    "categorical_labels_train = to_categorical(labels_encoded_train, num_classes=None)\n",
    "print('Shape of train data tensor:', data_train.shape)\n",
    "print('Shape of train label tensor:', categorical_labels_train.shape)\n",
    "\n",
    "# Shuffle training data\n",
    "indices = np.arange(data_train.shape[0])\n",
    "np.random.shuffle(indices)\n",
    "x_train = data_train[indices]\n",
    "y_train = categorical_labels_train[indices]"
   ]
  },
  {
   "cell_type": "code",
   "execution_count": 28,
   "metadata": {},
   "outputs": [
    {
     "name": "stdout",
     "output_type": "stream",
     "text": [
      "Shape of test data tensor: (500, 37)\n"
     ]
    }
   ],
   "source": [
    "# Pre-Process test data\n",
    "questions_test = [x.question for x in trec_test]\n",
    "y_test = [x.label for x in trec_test]\n",
    "sequences_test = tokenizer.texts_to_sequences(questions_test)\n",
    "x_test = pad_sequences(sequences_test, maxlen=max_len)\n",
    "\n",
    "print('Shape of test data tensor:', x_test.shape)"
   ]
  },
  {
   "cell_type": "markdown",
   "metadata": {},
   "source": [
    "## Convolutional Neural Networks for Sentence Classification\n",
    "https://arxiv.org/pdf/1408.5882.pdf"
   ]
  },
  {
   "cell_type": "markdown",
   "metadata": {},
   "source": [
    "## 3.1 Hyperparameters and Training"
   ]
  },
  {
   "cell_type": "markdown",
   "metadata": {},
   "source": [
    "For all datasets we use: \n",
    "\n",
    "- rectified linear units;\n",
    "- filterwindows (h) of 3, 4, 5 with 100 feature maps each;\n",
    "- dropout rate (p) of 0.5;\n",
    "- l2 constraint (s) of 3;\n",
    "- mini-batch size of 50;\n",
    "\n",
    "These values were chosen via a grid search on the SST-2 dev set. \n",
    "\n",
    "We do not otherwise perform any dataset specific tuning other than early stopping on dev sets. For datasets without a standard dev set we randomly select 10% of the training data as the dev set. \n",
    "\n",
    "Training is done through stochastic gradient descent over shuffled mini-batches with the Adadelta update rule (Zeiler, 2012)."
   ]
  },
  {
   "cell_type": "markdown",
   "metadata": {},
   "source": [
    "## 3.2 Pre-trained Word Vectors"
   ]
  },
  {
   "cell_type": "markdown",
   "metadata": {},
   "source": [
    "We use the publicly available:\n",
    "\n",
    "- word2vec vectors that were trained on 100 billion words from Google News.\n",
    "- Words not present in the set of pre-trained words are initialized randomly."
   ]
  },
  {
   "cell_type": "markdown",
   "metadata": {},
   "source": [
    "## 3.3 Models Variations"
   ]
  },
  {
   "cell_type": "markdown",
   "metadata": {
    "collapsed": true
   },
   "source": [
    "## `CNN-rand`: all words are randomly initialized and then modified during training"
   ]
  },
  {
   "cell_type": "code",
   "execution_count": 29,
   "metadata": {},
   "outputs": [
    {
     "name": "stdout",
     "output_type": "stream",
     "text": [
      "_________________________________________________________________\n",
      "Layer (type)                 Output Shape              Param #   \n",
      "=================================================================\n",
      "main_input (InputLayer)      (None, 37)                0         \n",
      "_________________________________________________________________\n",
      "random_embeddings (Embedding (None, 37, 200)           2000000   \n",
      "_________________________________________________________________\n",
      "Convolutions (Conv1D)        (None, 33, 200)           200200    \n",
      "_________________________________________________________________\n",
      "Pooling (MaxPooling1D)       (None, 16, 200)           0         \n",
      "_________________________________________________________________\n",
      "flatten (Flatten)            (None, 3200)              0         \n",
      "_________________________________________________________________\n",
      "output (Dense)               (None, 6)                 19206     \n",
      "=================================================================\n",
      "Total params: 2,219,406\n",
      "Trainable params: 2,219,406\n",
      "Non-trainable params: 0\n",
      "_________________________________________________________________\n"
     ]
    }
   ],
   "source": [
    "embedding_dim = 200\n",
    "i = Input(shape=(max_len,), dtype='int32', name='main_input')\n",
    "x = Embedding(10000, embedding_dim, name='random_embeddings', input_length=max_len)(i)\n",
    "x = Conv1D(filters=embedding_dim, kernel_size=5, name='Convolutions')(x)\n",
    "x = MaxPooling1D(pool_size=2, strides=None, name='Pooling', padding='valid')(x)\n",
    "x = Flatten(name='flatten')(x)\n",
    "o = Dense(6, activation='sigmoid', name='output')(x)\n",
    "model = Model(inputs=i, outputs=o)\n",
    "model.summary()\n",
    "model.compile(loss={'output': 'binary_crossentropy'}, optimizer='adam')"
   ]
  },
  {
   "cell_type": "code",
   "execution_count": 31,
   "metadata": {},
   "outputs": [
    {
     "data": {
      "image/svg+xml": [
       "<svg height=\"458pt\" viewBox=\"0.00 0.00 373.67 458.00\" width=\"374pt\" xmlns=\"http://www.w3.org/2000/svg\" xmlns:xlink=\"http://www.w3.org/1999/xlink\">\n",
       "<g class=\"graph\" id=\"graph0\" transform=\"scale(1 1) rotate(0) translate(4 454)\">\n",
       "<title>G</title>\n",
       "<polygon fill=\"#ffffff\" points=\"-4,4 -4,-454 369.6729,-454 369.6729,4 -4,4\" stroke=\"transparent\"/>\n",
       "<!-- 4843377776 -->\n",
       "<g class=\"node\" id=\"node1\">\n",
       "<title>4843377776</title>\n",
       "<polygon fill=\"none\" points=\"42,-405.5 42,-449.5 323.6729,-449.5 323.6729,-405.5 42,-405.5\" stroke=\"#000000\"/>\n",
       "<text fill=\"#000000\" font-family=\"Times,serif\" font-size=\"14.00\" text-anchor=\"middle\" x=\"116.6777\" y=\"-423.3\">main_input: InputLayer</text>\n",
       "<polyline fill=\"none\" points=\"191.3555,-405.5 191.3555,-449.5 \" stroke=\"#000000\"/>\n",
       "<text fill=\"#000000\" font-family=\"Times,serif\" font-size=\"14.00\" text-anchor=\"middle\" x=\"219.1899\" y=\"-434.3\">input:</text>\n",
       "<polyline fill=\"none\" points=\"191.3555,-427.5 247.0244,-427.5 \" stroke=\"#000000\"/>\n",
       "<text fill=\"#000000\" font-family=\"Times,serif\" font-size=\"14.00\" text-anchor=\"middle\" x=\"219.1899\" y=\"-412.3\">output:</text>\n",
       "<polyline fill=\"none\" points=\"247.0244,-405.5 247.0244,-449.5 \" stroke=\"#000000\"/>\n",
       "<text fill=\"#000000\" font-family=\"Times,serif\" font-size=\"14.00\" text-anchor=\"middle\" x=\"285.3486\" y=\"-434.3\">(None, 37)</text>\n",
       "<polyline fill=\"none\" points=\"247.0244,-427.5 323.6729,-427.5 \" stroke=\"#000000\"/>\n",
       "<text fill=\"#000000\" font-family=\"Times,serif\" font-size=\"14.00\" text-anchor=\"middle\" x=\"285.3486\" y=\"-412.3\">(None, 37)</text>\n",
       "</g>\n",
       "<!-- 4843377944 -->\n",
       "<g class=\"node\" id=\"node2\">\n",
       "<title>4843377944</title>\n",
       "<polygon fill=\"none\" points=\"0,-324.5 0,-368.5 365.6729,-368.5 365.6729,-324.5 0,-324.5\" stroke=\"#000000\"/>\n",
       "<text fill=\"#000000\" font-family=\"Times,serif\" font-size=\"14.00\" text-anchor=\"middle\" x=\"102.6777\" y=\"-342.3\">random_embeddings: Embedding</text>\n",
       "<polyline fill=\"none\" points=\"205.3555,-324.5 205.3555,-368.5 \" stroke=\"#000000\"/>\n",
       "<text fill=\"#000000\" font-family=\"Times,serif\" font-size=\"14.00\" text-anchor=\"middle\" x=\"233.1899\" y=\"-353.3\">input:</text>\n",
       "<polyline fill=\"none\" points=\"205.3555,-346.5 261.0244,-346.5 \" stroke=\"#000000\"/>\n",
       "<text fill=\"#000000\" font-family=\"Times,serif\" font-size=\"14.00\" text-anchor=\"middle\" x=\"233.1899\" y=\"-331.3\">output:</text>\n",
       "<polyline fill=\"none\" points=\"261.0244,-324.5 261.0244,-368.5 \" stroke=\"#000000\"/>\n",
       "<text fill=\"#000000\" font-family=\"Times,serif\" font-size=\"14.00\" text-anchor=\"middle\" x=\"313.3486\" y=\"-353.3\">(None, 37)</text>\n",
       "<polyline fill=\"none\" points=\"261.0244,-346.5 365.6729,-346.5 \" stroke=\"#000000\"/>\n",
       "<text fill=\"#000000\" font-family=\"Times,serif\" font-size=\"14.00\" text-anchor=\"middle\" x=\"313.3486\" y=\"-331.3\">(None, 37, 200)</text>\n",
       "</g>\n",
       "<!-- 4843377776&#45;&gt;4843377944 -->\n",
       "<g class=\"edge\" id=\"edge1\">\n",
       "<title>4843377776-&gt;4843377944</title>\n",
       "<path d=\"M182.8364,-405.3664C182.8364,-397.1516 182.8364,-387.6579 182.8364,-378.7252\" fill=\"none\" stroke=\"#000000\"/>\n",
       "<polygon fill=\"#000000\" points=\"186.3365,-378.6068 182.8364,-368.6068 179.3365,-378.6069 186.3365,-378.6068\" stroke=\"#000000\"/>\n",
       "</g>\n",
       "<!-- 4843404592 -->\n",
       "<g class=\"node\" id=\"node3\">\n",
       "<title>4843404592</title>\n",
       "<polygon fill=\"none\" points=\"29.5313,-243.5 29.5313,-287.5 336.1416,-287.5 336.1416,-243.5 29.5313,-243.5\" stroke=\"#000000\"/>\n",
       "<text fill=\"#000000\" font-family=\"Times,serif\" font-size=\"14.00\" text-anchor=\"middle\" x=\"102.6777\" y=\"-261.3\">Convolutions: Conv1D</text>\n",
       "<polyline fill=\"none\" points=\"175.8242,-243.5 175.8242,-287.5 \" stroke=\"#000000\"/>\n",
       "<text fill=\"#000000\" font-family=\"Times,serif\" font-size=\"14.00\" text-anchor=\"middle\" x=\"203.6587\" y=\"-272.3\">input:</text>\n",
       "<polyline fill=\"none\" points=\"175.8242,-265.5 231.4932,-265.5 \" stroke=\"#000000\"/>\n",
       "<text fill=\"#000000\" font-family=\"Times,serif\" font-size=\"14.00\" text-anchor=\"middle\" x=\"203.6587\" y=\"-250.3\">output:</text>\n",
       "<polyline fill=\"none\" points=\"231.4932,-243.5 231.4932,-287.5 \" stroke=\"#000000\"/>\n",
       "<text fill=\"#000000\" font-family=\"Times,serif\" font-size=\"14.00\" text-anchor=\"middle\" x=\"283.8174\" y=\"-272.3\">(None, 37, 200)</text>\n",
       "<polyline fill=\"none\" points=\"231.4932,-265.5 336.1416,-265.5 \" stroke=\"#000000\"/>\n",
       "<text fill=\"#000000\" font-family=\"Times,serif\" font-size=\"14.00\" text-anchor=\"middle\" x=\"283.8174\" y=\"-250.3\">(None, 33, 200)</text>\n",
       "</g>\n",
       "<!-- 4843377944&#45;&gt;4843404592 -->\n",
       "<g class=\"edge\" id=\"edge2\">\n",
       "<title>4843377944-&gt;4843404592</title>\n",
       "<path d=\"M182.8364,-324.3664C182.8364,-316.1516 182.8364,-306.6579 182.8364,-297.7252\" fill=\"none\" stroke=\"#000000\"/>\n",
       "<polygon fill=\"#000000\" points=\"186.3365,-297.6068 182.8364,-287.6068 179.3365,-297.6069 186.3365,-297.6068\" stroke=\"#000000\"/>\n",
       "</g>\n",
       "<!-- 4843405152 -->\n",
       "<g class=\"node\" id=\"node4\">\n",
       "<title>4843405152</title>\n",
       "<polygon fill=\"none\" points=\"26.0313,-162.5 26.0313,-206.5 339.6416,-206.5 339.6416,-162.5 26.0313,-162.5\" stroke=\"#000000\"/>\n",
       "<text fill=\"#000000\" font-family=\"Times,serif\" font-size=\"14.00\" text-anchor=\"middle\" x=\"102.6777\" y=\"-180.3\">Pooling: MaxPooling1D</text>\n",
       "<polyline fill=\"none\" points=\"179.3242,-162.5 179.3242,-206.5 \" stroke=\"#000000\"/>\n",
       "<text fill=\"#000000\" font-family=\"Times,serif\" font-size=\"14.00\" text-anchor=\"middle\" x=\"207.1587\" y=\"-191.3\">input:</text>\n",
       "<polyline fill=\"none\" points=\"179.3242,-184.5 234.9932,-184.5 \" stroke=\"#000000\"/>\n",
       "<text fill=\"#000000\" font-family=\"Times,serif\" font-size=\"14.00\" text-anchor=\"middle\" x=\"207.1587\" y=\"-169.3\">output:</text>\n",
       "<polyline fill=\"none\" points=\"234.9932,-162.5 234.9932,-206.5 \" stroke=\"#000000\"/>\n",
       "<text fill=\"#000000\" font-family=\"Times,serif\" font-size=\"14.00\" text-anchor=\"middle\" x=\"287.3174\" y=\"-191.3\">(None, 33, 200)</text>\n",
       "<polyline fill=\"none\" points=\"234.9932,-184.5 339.6416,-184.5 \" stroke=\"#000000\"/>\n",
       "<text fill=\"#000000\" font-family=\"Times,serif\" font-size=\"14.00\" text-anchor=\"middle\" x=\"287.3174\" y=\"-169.3\">(None, 16, 200)</text>\n",
       "</g>\n",
       "<!-- 4843404592&#45;&gt;4843405152 -->\n",
       "<g class=\"edge\" id=\"edge3\">\n",
       "<title>4843404592-&gt;4843405152</title>\n",
       "<path d=\"M182.8364,-243.3664C182.8364,-235.1516 182.8364,-225.6579 182.8364,-216.7252\" fill=\"none\" stroke=\"#000000\"/>\n",
       "<polygon fill=\"#000000\" points=\"186.3365,-216.6068 182.8364,-206.6068 179.3365,-216.6069 186.3365,-216.6068\" stroke=\"#000000\"/>\n",
       "</g>\n",
       "<!-- 4843404648 -->\n",
       "<g class=\"node\" id=\"node5\">\n",
       "<title>4843404648</title>\n",
       "<polygon fill=\"none\" points=\"54.0449,-81.5 54.0449,-125.5 311.6279,-125.5 311.6279,-81.5 54.0449,-81.5\" stroke=\"#000000\"/>\n",
       "<text fill=\"#000000\" font-family=\"Times,serif\" font-size=\"14.00\" text-anchor=\"middle\" x=\"102.6777\" y=\"-99.3\">flatten: Flatten</text>\n",
       "<polyline fill=\"none\" points=\"151.3105,-81.5 151.3105,-125.5 \" stroke=\"#000000\"/>\n",
       "<text fill=\"#000000\" font-family=\"Times,serif\" font-size=\"14.00\" text-anchor=\"middle\" x=\"179.145\" y=\"-110.3\">input:</text>\n",
       "<polyline fill=\"none\" points=\"151.3105,-103.5 206.9795,-103.5 \" stroke=\"#000000\"/>\n",
       "<text fill=\"#000000\" font-family=\"Times,serif\" font-size=\"14.00\" text-anchor=\"middle\" x=\"179.145\" y=\"-88.3\">output:</text>\n",
       "<polyline fill=\"none\" points=\"206.9795,-81.5 206.9795,-125.5 \" stroke=\"#000000\"/>\n",
       "<text fill=\"#000000\" font-family=\"Times,serif\" font-size=\"14.00\" text-anchor=\"middle\" x=\"259.3037\" y=\"-110.3\">(None, 16, 200)</text>\n",
       "<polyline fill=\"none\" points=\"206.9795,-103.5 311.6279,-103.5 \" stroke=\"#000000\"/>\n",
       "<text fill=\"#000000\" font-family=\"Times,serif\" font-size=\"14.00\" text-anchor=\"middle\" x=\"259.3037\" y=\"-88.3\">(None, 3200)</text>\n",
       "</g>\n",
       "<!-- 4843405152&#45;&gt;4843404648 -->\n",
       "<g class=\"edge\" id=\"edge4\">\n",
       "<title>4843405152-&gt;4843404648</title>\n",
       "<path d=\"M182.8364,-162.3664C182.8364,-154.1516 182.8364,-144.6579 182.8364,-135.7252\" fill=\"none\" stroke=\"#000000\"/>\n",
       "<polygon fill=\"#000000\" points=\"186.3365,-135.6068 182.8364,-125.6068 179.3365,-135.6069 186.3365,-135.6068\" stroke=\"#000000\"/>\n",
       "</g>\n",
       "<!-- 4843378504 -->\n",
       "<g class=\"node\" id=\"node6\">\n",
       "<title>4843378504</title>\n",
       "<polygon fill=\"none\" points=\"62.6001,-.5 62.6001,-44.5 303.0728,-44.5 303.0728,-.5 62.6001,-.5\" stroke=\"#000000\"/>\n",
       "<text fill=\"#000000\" font-family=\"Times,serif\" font-size=\"14.00\" text-anchor=\"middle\" x=\"109.6777\" y=\"-18.3\">output: Dense</text>\n",
       "<polyline fill=\"none\" points=\"156.7554,-.5 156.7554,-44.5 \" stroke=\"#000000\"/>\n",
       "<text fill=\"#000000\" font-family=\"Times,serif\" font-size=\"14.00\" text-anchor=\"middle\" x=\"184.5898\" y=\"-29.3\">input:</text>\n",
       "<polyline fill=\"none\" points=\"156.7554,-22.5 212.4243,-22.5 \" stroke=\"#000000\"/>\n",
       "<text fill=\"#000000\" font-family=\"Times,serif\" font-size=\"14.00\" text-anchor=\"middle\" x=\"184.5898\" y=\"-7.3\">output:</text>\n",
       "<polyline fill=\"none\" points=\"212.4243,-.5 212.4243,-44.5 \" stroke=\"#000000\"/>\n",
       "<text fill=\"#000000\" font-family=\"Times,serif\" font-size=\"14.00\" text-anchor=\"middle\" x=\"257.7485\" y=\"-29.3\">(None, 3200)</text>\n",
       "<polyline fill=\"none\" points=\"212.4243,-22.5 303.0728,-22.5 \" stroke=\"#000000\"/>\n",
       "<text fill=\"#000000\" font-family=\"Times,serif\" font-size=\"14.00\" text-anchor=\"middle\" x=\"257.7485\" y=\"-7.3\">(None, 6)</text>\n",
       "</g>\n",
       "<!-- 4843404648&#45;&gt;4843378504 -->\n",
       "<g class=\"edge\" id=\"edge5\">\n",
       "<title>4843404648-&gt;4843378504</title>\n",
       "<path d=\"M182.8364,-81.3664C182.8364,-73.1516 182.8364,-63.6579 182.8364,-54.7252\" fill=\"none\" stroke=\"#000000\"/>\n",
       "<polygon fill=\"#000000\" points=\"186.3365,-54.6068 182.8364,-44.6068 179.3365,-54.6069 186.3365,-54.6068\" stroke=\"#000000\"/>\n",
       "</g>\n",
       "</g>\n",
       "</svg>"
      ],
      "text/plain": [
       "<IPython.core.display.SVG object>"
      ]
     },
     "execution_count": 31,
     "metadata": {},
     "output_type": "execute_result"
    }
   ],
   "source": [
    "SVG(model_to_dot(model, show_layer_names=True, show_shapes=True).create(prog='dot', format='svg'))"
   ]
  },
  {
   "cell_type": "code",
   "execution_count": 32,
   "metadata": {},
   "outputs": [
    {
     "name": "stdout",
     "output_type": "stream",
     "text": [
      "Train on 3605 samples, validate on 1776 samples\n",
      "Epoch 1/5\n",
      "3605/3605 [==============================] - 4s - loss: 0.3876 - val_loss: 0.2956\n",
      "Epoch 2/5\n",
      "3605/3605 [==============================] - 3s - loss: 0.1850 - val_loss: 0.2103\n",
      "Epoch 3/5\n",
      "3605/3605 [==============================] - 4s - loss: 0.0809 - val_loss: 0.2221\n",
      "Epoch 4/5\n",
      "3605/3605 [==============================] - 4s - loss: 0.0373 - val_loss: 0.2527\n",
      "Epoch 5/5\n",
      "3605/3605 [==============================] - 4s - loss: 0.0199 - val_loss: 0.2787\n"
     ]
    }
   ],
   "source": [
    "history = model.fit(x_train, y_train, epochs=5, batch_size=32, validation_split=0.33, shuffle=False)"
   ]
  },
  {
   "cell_type": "code",
   "execution_count": 33,
   "metadata": {
    "collapsed": true
   },
   "outputs": [],
   "source": [
    "## convert raw predictions to class indexes\n",
    "threshold = 0.5\n",
    "class_predictions = [(x > threshold).astype(int) for x in model.predict(x_test)]"
   ]
  },
  {
   "cell_type": "code",
   "execution_count": 34,
   "metadata": {},
   "outputs": [
    {
     "data": {
      "text/plain": [
       "[array([1, 0, 0, 0, 0, 0]),\n",
       " array([1, 0, 0, 0, 0, 0]),\n",
       " array([0, 1, 0, 0, 0, 0]),\n",
       " array([0, 0, 0, 0, 1, 0]),\n",
       " array([0, 1, 0, 0, 0, 0]),\n",
       " array([0, 0, 0, 1, 0, 0]),\n",
       " array([0, 0, 1, 0, 0, 0]),\n",
       " array([0, 0, 0, 0, 0, 1]),\n",
       " array([0, 0, 0, 0, 0, 1]),\n",
       " array([0, 0, 0, 0, 0, 1]),\n",
       " array([0, 0, 1, 0, 0, 0]),\n",
       " array([0, 0, 0, 0, 1, 0]),\n",
       " array([0, 0, 0, 1, 0, 0]),\n",
       " array([0, 0, 0, 1, 0, 0]),\n",
       " array([0, 1, 0, 0, 0, 0]),\n",
       " array([0, 1, 0, 0, 0, 0]),\n",
       " array([0, 0, 0, 1, 0, 0]),\n",
       " array([0, 0, 0, 1, 0, 0]),\n",
       " array([0, 1, 0, 0, 0, 0]),\n",
       " array([0, 0, 0, 1, 0, 0]),\n",
       " array([0, 0, 0, 0, 0, 1]),\n",
       " array([0, 0, 0, 0, 0, 1]),\n",
       " array([0, 0, 0, 0, 1, 0]),\n",
       " array([0, 1, 0, 0, 0, 0]),\n",
       " array([0, 1, 0, 0, 0, 0]),\n",
       " array([0, 1, 0, 0, 0, 0]),\n",
       " array([0, 0, 0, 0, 1, 0]),\n",
       " array([0, 0, 0, 1, 0, 0]),\n",
       " array([0, 0, 0, 0, 1, 0]),\n",
       " array([0, 0, 0, 0, 0, 0]),\n",
       " array([0, 0, 0, 0, 1, 0]),\n",
       " array([0, 1, 0, 0, 0, 0]),\n",
       " array([1, 1, 0, 0, 0, 0]),\n",
       " array([0, 0, 0, 1, 0, 0]),\n",
       " array([0, 0, 1, 0, 0, 0]),\n",
       " array([0, 0, 0, 0, 0, 0]),\n",
       " array([0, 0, 0, 0, 1, 0]),\n",
       " array([0, 0, 0, 0, 0, 1]),\n",
       " array([0, 0, 0, 0, 0, 0]),\n",
       " array([0, 0, 0, 0, 0, 0]),\n",
       " array([0, 0, 0, 0, 0, 1]),\n",
       " array([0, 0, 1, 0, 0, 0]),\n",
       " array([0, 0, 0, 0, 0, 1]),\n",
       " array([0, 0, 0, 1, 0, 0]),\n",
       " array([0, 1, 0, 0, 0, 0]),\n",
       " array([0, 0, 0, 0, 1, 0]),\n",
       " array([0, 1, 0, 0, 0, 0]),\n",
       " array([0, 0, 0, 0, 0, 1]),\n",
       " array([0, 1, 0, 0, 0, 0]),\n",
       " array([0, 1, 0, 0, 0, 0]),\n",
       " array([0, 0, 0, 0, 0, 1]),\n",
       " array([0, 0, 0, 0, 1, 0]),\n",
       " array([0, 0, 0, 0, 0, 0]),\n",
       " array([0, 1, 0, 0, 0, 0]),\n",
       " array([0, 0, 0, 0, 0, 1]),\n",
       " array([0, 0, 0, 0, 0, 0]),\n",
       " array([0, 0, 0, 0, 0, 0]),\n",
       " array([0, 1, 0, 0, 0, 0]),\n",
       " array([0, 0, 0, 0, 0, 1]),\n",
       " array([0, 0, 0, 0, 1, 0]),\n",
       " array([0, 0, 0, 0, 0, 0]),\n",
       " array([0, 0, 0, 0, 0, 1]),\n",
       " array([0, 1, 0, 0, 0, 0]),\n",
       " array([0, 1, 0, 0, 0, 0]),\n",
       " array([0, 1, 0, 0, 0, 0]),\n",
       " array([0, 0, 1, 0, 0, 0]),\n",
       " array([0, 0, 0, 0, 0, 1]),\n",
       " array([0, 0, 0, 1, 0, 0]),\n",
       " array([0, 0, 1, 0, 0, 0]),\n",
       " array([0, 0, 0, 0, 0, 0]),\n",
       " array([0, 0, 1, 0, 0, 0]),\n",
       " array([0, 1, 0, 0, 0, 0]),\n",
       " array([0, 0, 0, 0, 0, 0]),\n",
       " array([0, 0, 0, 0, 1, 0]),\n",
       " array([0, 0, 0, 0, 1, 0]),\n",
       " array([0, 1, 0, 0, 0, 0]),\n",
       " array([0, 0, 0, 0, 0, 1]),\n",
       " array([0, 0, 0, 0, 0, 0]),\n",
       " array([0, 0, 0, 0, 1, 0]),\n",
       " array([0, 0, 0, 0, 1, 0]),\n",
       " array([0, 1, 0, 0, 0, 0]),\n",
       " array([0, 0, 0, 0, 0, 0]),\n",
       " array([0, 1, 0, 0, 0, 0]),\n",
       " array([0, 0, 0, 0, 1, 0]),\n",
       " array([0, 0, 0, 0, 0, 1]),\n",
       " array([0, 1, 0, 0, 0, 0]),\n",
       " array([0, 0, 0, 0, 1, 0]),\n",
       " array([0, 0, 0, 1, 0, 0]),\n",
       " array([0, 1, 0, 0, 0, 0]),\n",
       " array([0, 0, 0, 0, 0, 1]),\n",
       " array([0, 0, 0, 0, 0, 1]),\n",
       " array([1, 0, 0, 0, 0, 0]),\n",
       " array([0, 1, 0, 0, 0, 0]),\n",
       " array([0, 1, 0, 0, 0, 0]),\n",
       " array([0, 1, 0, 0, 0, 0]),\n",
       " array([0, 0, 0, 0, 0, 0]),\n",
       " array([0, 0, 0, 1, 0, 0]),\n",
       " array([0, 1, 0, 0, 0, 0]),\n",
       " array([0, 0, 0, 0, 1, 0]),\n",
       " array([0, 0, 0, 0, 0, 1]),\n",
       " array([0, 0, 1, 0, 0, 0]),\n",
       " array([0, 0, 1, 0, 0, 0]),\n",
       " array([0, 0, 0, 0, 1, 0]),\n",
       " array([0, 0, 0, 0, 0, 0]),\n",
       " array([0, 1, 0, 0, 0, 0]),\n",
       " array([0, 0, 0, 0, 1, 0]),\n",
       " array([0, 1, 0, 0, 0, 0]),\n",
       " array([0, 1, 0, 0, 0, 1]),\n",
       " array([0, 1, 0, 0, 0, 0]),\n",
       " array([0, 0, 0, 0, 0, 1]),\n",
       " array([0, 1, 0, 0, 0, 0]),\n",
       " array([0, 1, 0, 0, 0, 0]),\n",
       " array([0, 0, 0, 0, 0, 1]),\n",
       " array([0, 0, 1, 0, 0, 0]),\n",
       " array([0, 0, 0, 1, 0, 0]),\n",
       " array([0, 1, 0, 0, 0, 0]),\n",
       " array([0, 0, 0, 1, 0, 0]),\n",
       " array([0, 0, 1, 0, 0, 0]),\n",
       " array([0, 1, 0, 0, 0, 0]),\n",
       " array([0, 0, 1, 0, 0, 0]),\n",
       " array([0, 1, 0, 0, 0, 0]),\n",
       " array([0, 0, 0, 0, 1, 0]),\n",
       " array([0, 0, 0, 0, 1, 0]),\n",
       " array([0, 1, 0, 0, 0, 0]),\n",
       " array([0, 1, 0, 0, 0, 0]),\n",
       " array([0, 0, 1, 0, 0, 0]),\n",
       " array([0, 0, 0, 1, 0, 0]),\n",
       " array([0, 1, 0, 0, 0, 0]),\n",
       " array([0, 0, 0, 0, 1, 0]),\n",
       " array([0, 0, 0, 0, 1, 0]),\n",
       " array([0, 1, 0, 0, 0, 0]),\n",
       " array([0, 1, 0, 0, 0, 0]),\n",
       " array([0, 0, 0, 1, 0, 0]),\n",
       " array([0, 0, 0, 0, 0, 0]),\n",
       " array([0, 0, 1, 0, 0, 0]),\n",
       " array([0, 0, 0, 0, 0, 0]),\n",
       " array([0, 0, 0, 1, 0, 0]),\n",
       " array([0, 1, 0, 0, 0, 0]),\n",
       " array([0, 0, 0, 0, 0, 1]),\n",
       " array([0, 0, 0, 0, 0, 1]),\n",
       " array([0, 0, 0, 0, 0, 0]),\n",
       " array([0, 0, 0, 0, 1, 0]),\n",
       " array([0, 1, 0, 0, 0, 0]),\n",
       " array([0, 0, 0, 0, 0, 1]),\n",
       " array([1, 0, 0, 0, 0, 0]),\n",
       " array([0, 1, 0, 0, 0, 1]),\n",
       " array([0, 0, 1, 0, 0, 0]),\n",
       " array([0, 1, 0, 0, 0, 0]),\n",
       " array([0, 1, 0, 0, 0, 0]),\n",
       " array([0, 1, 0, 0, 0, 0]),\n",
       " array([0, 0, 0, 0, 1, 0]),\n",
       " array([0, 1, 0, 0, 0, 0]),\n",
       " array([0, 0, 0, 0, 0, 0]),\n",
       " array([0, 0, 0, 1, 0, 0]),\n",
       " array([0, 0, 0, 0, 1, 0]),\n",
       " array([0, 0, 0, 0, 0, 0]),\n",
       " array([0, 0, 0, 0, 0, 1]),\n",
       " array([0, 0, 1, 1, 0, 0]),\n",
       " array([0, 0, 0, 0, 0, 0]),\n",
       " array([0, 0, 0, 1, 0, 0]),\n",
       " array([0, 1, 0, 0, 0, 0]),\n",
       " array([0, 0, 0, 0, 0, 1]),\n",
       " array([0, 0, 0, 0, 0, 1]),\n",
       " array([0, 0, 0, 1, 0, 0]),\n",
       " array([0, 0, 0, 1, 0, 0]),\n",
       " array([0, 0, 0, 0, 0, 0]),\n",
       " array([0, 0, 0, 1, 0, 0]),\n",
       " array([0, 0, 0, 0, 0, 1]),\n",
       " array([0, 0, 0, 0, 0, 1]),\n",
       " array([0, 1, 0, 0, 0, 0]),\n",
       " array([0, 1, 0, 0, 0, 0]),\n",
       " array([0, 1, 0, 0, 0, 0]),\n",
       " array([0, 0, 0, 0, 1, 0]),\n",
       " array([0, 0, 0, 0, 0, 0]),\n",
       " array([0, 0, 0, 1, 0, 0]),\n",
       " array([0, 0, 0, 1, 0, 0]),\n",
       " array([0, 0, 0, 0, 0, 0]),\n",
       " array([0, 0, 0, 0, 0, 1]),\n",
       " array([0, 0, 0, 0, 1, 0]),\n",
       " array([0, 1, 0, 0, 0, 0]),\n",
       " array([0, 1, 0, 0, 0, 0]),\n",
       " array([0, 1, 0, 0, 0, 0]),\n",
       " array([0, 1, 0, 0, 0, 0]),\n",
       " array([0, 0, 1, 0, 0, 0]),\n",
       " array([0, 0, 1, 0, 0, 0]),\n",
       " array([0, 1, 0, 0, 0, 0]),\n",
       " array([0, 1, 0, 0, 0, 0]),\n",
       " array([0, 0, 0, 0, 1, 0]),\n",
       " array([0, 1, 0, 0, 0, 0]),\n",
       " array([0, 1, 0, 0, 0, 0]),\n",
       " array([0, 0, 0, 0, 1, 0]),\n",
       " array([0, 0, 0, 0, 0, 1]),\n",
       " array([0, 0, 0, 1, 0, 0]),\n",
       " array([0, 0, 0, 0, 1, 0]),\n",
       " array([0, 1, 0, 0, 0, 0]),\n",
       " array([0, 0, 1, 0, 0, 0]),\n",
       " array([0, 1, 0, 0, 1, 0]),\n",
       " array([0, 0, 0, 0, 0, 1]),\n",
       " array([0, 1, 0, 0, 0, 0]),\n",
       " array([0, 0, 0, 0, 0, 0]),\n",
       " array([0, 0, 0, 1, 0, 0]),\n",
       " array([0, 0, 0, 0, 0, 1]),\n",
       " array([0, 0, 1, 0, 0, 0]),\n",
       " array([0, 1, 0, 0, 0, 0]),\n",
       " array([0, 0, 1, 0, 0, 0]),\n",
       " array([0, 1, 0, 0, 0, 0]),\n",
       " array([0, 1, 0, 0, 0, 0]),\n",
       " array([0, 1, 0, 0, 0, 0]),\n",
       " array([0, 1, 0, 0, 0, 0]),\n",
       " array([0, 1, 0, 0, 0, 0]),\n",
       " array([0, 0, 0, 1, 0, 0]),\n",
       " array([0, 1, 0, 0, 0, 0]),\n",
       " array([0, 0, 0, 0, 1, 0]),\n",
       " array([0, 1, 0, 0, 0, 0]),\n",
       " array([0, 0, 0, 1, 0, 0]),\n",
       " array([0, 0, 0, 1, 0, 0]),\n",
       " array([0, 0, 1, 0, 0, 0]),\n",
       " array([0, 1, 0, 0, 0, 0]),\n",
       " array([0, 0, 1, 0, 0, 0]),\n",
       " array([0, 1, 0, 0, 0, 0]),\n",
       " array([0, 0, 0, 1, 0, 0]),\n",
       " array([0, 0, 0, 0, 1, 0]),\n",
       " array([0, 0, 0, 0, 0, 1]),\n",
       " array([0, 1, 1, 0, 0, 0]),\n",
       " array([0, 0, 0, 1, 0, 0]),\n",
       " array([0, 1, 0, 0, 0, 0]),\n",
       " array([0, 0, 0, 0, 0, 0]),\n",
       " array([0, 0, 1, 0, 0, 0]),\n",
       " array([0, 1, 0, 0, 0, 0]),\n",
       " array([0, 0, 0, 0, 0, 0]),\n",
       " array([0, 0, 0, 0, 0, 0]),\n",
       " array([0, 0, 0, 0, 0, 0]),\n",
       " array([0, 1, 0, 0, 0, 0]),\n",
       " array([0, 1, 0, 0, 0, 0]),\n",
       " array([0, 0, 0, 0, 0, 1]),\n",
       " array([0, 0, 0, 0, 0, 0]),\n",
       " array([0, 0, 1, 0, 0, 0]),\n",
       " array([0, 0, 0, 0, 1, 0]),\n",
       " array([0, 0, 0, 0, 1, 0]),\n",
       " array([0, 1, 0, 0, 0, 0]),\n",
       " array([0, 0, 0, 0, 0, 0]),\n",
       " array([0, 1, 0, 0, 0, 0]),\n",
       " array([0, 1, 0, 0, 0, 0]),\n",
       " array([0, 0, 0, 0, 1, 0]),\n",
       " array([0, 0, 0, 0, 1, 0]),\n",
       " array([0, 1, 0, 0, 0, 0]),\n",
       " array([0, 0, 0, 0, 0, 1]),\n",
       " array([0, 1, 0, 0, 0, 0]),\n",
       " array([0, 0, 0, 0, 1, 0]),\n",
       " array([0, 0, 0, 0, 1, 0]),\n",
       " array([0, 1, 0, 0, 0, 0]),\n",
       " array([0, 0, 0, 0, 0, 0]),\n",
       " array([0, 0, 0, 0, 1, 0]),\n",
       " array([0, 0, 0, 0, 1, 0]),\n",
       " array([0, 1, 0, 0, 0, 0]),\n",
       " array([0, 0, 0, 0, 1, 0]),\n",
       " array([0, 0, 0, 0, 0, 1]),\n",
       " array([0, 1, 0, 0, 0, 0]),\n",
       " array([0, 1, 0, 0, 0, 0]),\n",
       " array([0, 1, 0, 0, 0, 0]),\n",
       " array([0, 0, 0, 0, 0, 1]),\n",
       " array([0, 0, 1, 0, 0, 0]),\n",
       " array([0, 0, 0, 0, 0, 0]),\n",
       " array([0, 0, 0, 0, 0, 1]),\n",
       " array([0, 0, 1, 0, 0, 0]),\n",
       " array([0, 0, 0, 1, 0, 0]),\n",
       " array([0, 1, 0, 0, 0, 0]),\n",
       " array([0, 0, 0, 0, 0, 0]),\n",
       " array([0, 0, 1, 0, 0, 0]),\n",
       " array([0, 0, 1, 0, 0, 0]),\n",
       " array([0, 0, 0, 1, 0, 0]),\n",
       " array([0, 0, 0, 0, 0, 0]),\n",
       " array([0, 0, 0, 0, 0, 1]),\n",
       " array([0, 0, 0, 0, 0, 0]),\n",
       " array([0, 0, 0, 1, 0, 0]),\n",
       " array([0, 1, 0, 0, 0, 0]),\n",
       " array([0, 0, 0, 0, 1, 0]),\n",
       " array([0, 1, 0, 0, 0, 0]),\n",
       " array([0, 1, 0, 0, 0, 0]),\n",
       " array([0, 0, 1, 0, 0, 0]),\n",
       " array([0, 0, 0, 0, 0, 0]),\n",
       " array([0, 0, 0, 0, 0, 1]),\n",
       " array([0, 0, 0, 0, 0, 0]),\n",
       " array([0, 1, 0, 0, 0, 0]),\n",
       " array([0, 0, 0, 0, 1, 0]),\n",
       " array([0, 0, 0, 0, 0, 1]),\n",
       " array([0, 1, 0, 0, 0, 0]),\n",
       " array([0, 0, 0, 1, 0, 0]),\n",
       " array([0, 0, 0, 0, 0, 0]),\n",
       " array([0, 0, 1, 0, 0, 0]),\n",
       " array([0, 1, 0, 0, 0, 0]),\n",
       " array([0, 0, 1, 0, 0, 0]),\n",
       " array([0, 1, 0, 0, 0, 0]),\n",
       " array([0, 1, 0, 0, 0, 0]),\n",
       " array([0, 0, 0, 0, 1, 0]),\n",
       " array([0, 0, 1, 0, 0, 0]),\n",
       " array([0, 0, 0, 0, 1, 0]),\n",
       " array([0, 1, 0, 0, 0, 0]),\n",
       " array([0, 1, 0, 0, 0, 0]),\n",
       " array([0, 0, 0, 0, 0, 0]),\n",
       " array([0, 0, 0, 0, 0, 1]),\n",
       " array([0, 0, 0, 1, 0, 0]),\n",
       " array([0, 0, 0, 0, 0, 1]),\n",
       " array([0, 0, 0, 0, 0, 1]),\n",
       " array([0, 0, 0, 0, 0, 0]),\n",
       " array([0, 1, 0, 0, 0, 0]),\n",
       " array([0, 1, 0, 0, 0, 0]),\n",
       " array([0, 0, 0, 0, 0, 1]),\n",
       " array([0, 1, 0, 0, 0, 0]),\n",
       " array([0, 0, 0, 0, 1, 0]),\n",
       " array([0, 1, 0, 0, 0, 0]),\n",
       " array([0, 1, 0, 0, 0, 0]),\n",
       " array([0, 0, 1, 0, 0, 0]),\n",
       " array([0, 0, 0, 0, 0, 1]),\n",
       " array([0, 1, 0, 0, 0, 0]),\n",
       " array([0, 0, 0, 0, 1, 0]),\n",
       " array([1, 0, 0, 0, 0, 0]),\n",
       " array([0, 1, 0, 0, 0, 0]),\n",
       " array([0, 1, 0, 0, 0, 0]),\n",
       " array([0, 0, 0, 0, 0, 0]),\n",
       " array([0, 1, 0, 0, 0, 0]),\n",
       " array([0, 0, 0, 1, 0, 0]),\n",
       " array([0, 0, 0, 0, 0, 1]),\n",
       " array([0, 1, 0, 0, 0, 0]),\n",
       " array([0, 0, 1, 0, 0, 0]),\n",
       " array([0, 1, 0, 0, 0, 0]),\n",
       " array([0, 0, 0, 0, 0, 0]),\n",
       " array([0, 0, 0, 0, 0, 1]),\n",
       " array([0, 0, 0, 0, 0, 1]),\n",
       " array([0, 0, 0, 0, 0, 1]),\n",
       " array([0, 1, 0, 0, 0, 0]),\n",
       " array([0, 1, 0, 0, 0, 0]),\n",
       " array([0, 1, 0, 0, 0, 0]),\n",
       " array([0, 0, 1, 0, 0, 0]),\n",
       " array([0, 0, 0, 1, 0, 0]),\n",
       " array([0, 0, 0, 1, 0, 0]),\n",
       " array([0, 0, 1, 0, 0, 0]),\n",
       " array([0, 0, 0, 0, 0, 1]),\n",
       " array([0, 1, 0, 0, 0, 0]),\n",
       " array([0, 1, 0, 0, 0, 0]),\n",
       " array([0, 0, 0, 0, 0, 1]),\n",
       " array([0, 1, 0, 0, 0, 0]),\n",
       " array([0, 0, 0, 0, 1, 0]),\n",
       " array([0, 0, 0, 1, 0, 0]),\n",
       " array([0, 0, 0, 0, 0, 1]),\n",
       " array([0, 0, 0, 0, 1, 0]),\n",
       " array([0, 1, 0, 0, 0, 0]),\n",
       " array([0, 1, 0, 0, 0, 0]),\n",
       " array([0, 1, 0, 0, 0, 0]),\n",
       " array([0, 0, 0, 0, 0, 0]),\n",
       " array([0, 0, 0, 0, 0, 1]),\n",
       " array([0, 0, 0, 0, 0, 0]),\n",
       " array([0, 0, 0, 0, 1, 0]),\n",
       " array([0, 1, 0, 0, 0, 0]),\n",
       " array([0, 0, 0, 0, 0, 0]),\n",
       " array([0, 0, 0, 0, 0, 1]),\n",
       " array([0, 1, 0, 0, 0, 0]),\n",
       " array([0, 0, 0, 1, 0, 0]),\n",
       " array([0, 1, 0, 0, 0, 0]),\n",
       " array([0, 0, 0, 0, 0, 0]),\n",
       " array([0, 0, 0, 0, 0, 0]),\n",
       " array([0, 0, 0, 0, 1, 0]),\n",
       " array([0, 0, 0, 0, 0, 0]),\n",
       " array([0, 0, 0, 0, 0, 0]),\n",
       " array([0, 0, 0, 0, 1, 0]),\n",
       " array([0, 0, 0, 1, 0, 0]),\n",
       " array([0, 0, 0, 1, 0, 0]),\n",
       " array([0, 0, 0, 0, 1, 0]),\n",
       " array([0, 0, 0, 1, 1, 0]),\n",
       " array([0, 0, 0, 1, 0, 0]),\n",
       " array([0, 0, 1, 0, 0, 0]),\n",
       " array([0, 0, 0, 1, 0, 0]),\n",
       " array([0, 0, 0, 0, 1, 0]),\n",
       " array([0, 0, 0, 0, 0, 1]),\n",
       " array([0, 0, 0, 0, 0, 0]),\n",
       " array([0, 1, 0, 0, 0, 0]),\n",
       " array([0, 0, 0, 0, 1, 0]),\n",
       " array([0, 0, 0, 1, 0, 0]),\n",
       " array([0, 1, 0, 0, 0, 0]),\n",
       " array([0, 1, 0, 0, 0, 0]),\n",
       " array([0, 0, 0, 1, 0, 0]),\n",
       " array([0, 1, 0, 0, 0, 0]),\n",
       " array([0, 0, 1, 0, 0, 0]),\n",
       " array([0, 0, 0, 0, 1, 0]),\n",
       " array([0, 1, 1, 0, 0, 0]),\n",
       " array([0, 1, 0, 0, 0, 0]),\n",
       " array([0, 0, 0, 0, 0, 0]),\n",
       " array([0, 0, 0, 0, 0, 0]),\n",
       " array([0, 0, 0, 0, 1, 0]),\n",
       " array([0, 0, 0, 0, 1, 0]),\n",
       " array([0, 1, 0, 0, 0, 0]),\n",
       " array([1, 0, 0, 0, 1, 0]),\n",
       " array([0, 0, 0, 0, 1, 0]),\n",
       " array([0, 1, 0, 0, 0, 0]),\n",
       " array([0, 0, 0, 1, 0, 0]),\n",
       " array([0, 0, 1, 0, 0, 0]),\n",
       " array([0, 0, 0, 0, 1, 0]),\n",
       " array([0, 0, 0, 0, 0, 0]),\n",
       " array([0, 0, 0, 0, 0, 0]),\n",
       " array([0, 0, 1, 0, 0, 0]),\n",
       " array([0, 0, 0, 0, 0, 0]),\n",
       " array([0, 0, 0, 0, 1, 0]),\n",
       " array([0, 0, 0, 0, 0, 1]),\n",
       " array([0, 0, 0, 0, 0, 1]),\n",
       " array([0, 0, 0, 0, 0, 1]),\n",
       " array([0, 1, 0, 0, 0, 0]),\n",
       " array([0, 1, 0, 0, 0, 0]),\n",
       " array([0, 0, 0, 0, 0, 1]),\n",
       " array([0, 1, 0, 0, 0, 0]),\n",
       " array([0, 0, 1, 0, 0, 0]),\n",
       " array([0, 1, 0, 0, 0, 0]),\n",
       " array([0, 0, 0, 0, 0, 0]),\n",
       " array([0, 1, 0, 0, 0, 0]),\n",
       " array([0, 0, 0, 0, 1, 0]),\n",
       " array([0, 0, 1, 0, 0, 0]),\n",
       " array([0, 0, 1, 0, 0, 0]),\n",
       " array([0, 1, 0, 0, 0, 0]),\n",
       " array([0, 0, 0, 0, 1, 0]),\n",
       " array([0, 1, 0, 0, 0, 0]),\n",
       " array([0, 1, 0, 0, 0, 0]),\n",
       " array([0, 1, 0, 0, 0, 0]),\n",
       " array([0, 0, 0, 0, 0, 1]),\n",
       " array([0, 0, 0, 1, 0, 0]),\n",
       " array([0, 1, 0, 0, 0, 0]),\n",
       " array([0, 0, 0, 0, 0, 0]),\n",
       " array([0, 0, 1, 0, 0, 0]),\n",
       " array([0, 0, 0, 0, 0, 1]),\n",
       " array([0, 0, 0, 0, 0, 0]),\n",
       " array([0, 0, 0, 0, 0, 0]),\n",
       " array([0, 0, 0, 0, 1, 0]),\n",
       " array([0, 0, 0, 0, 0, 0]),\n",
       " array([0, 0, 0, 0, 0, 1]),\n",
       " array([0, 0, 0, 0, 0, 0]),\n",
       " array([0, 0, 1, 0, 0, 0]),\n",
       " array([0, 0, 0, 0, 0, 1]),\n",
       " array([0, 0, 0, 1, 0, 0]),\n",
       " array([0, 1, 0, 0, 0, 0]),\n",
       " array([0, 1, 0, 0, 0, 0]),\n",
       " array([0, 1, 0, 0, 0, 0]),\n",
       " array([0, 0, 1, 0, 0, 0]),\n",
       " array([0, 0, 0, 0, 0, 0]),\n",
       " array([0, 0, 0, 0, 0, 0]),\n",
       " array([0, 0, 0, 0, 1, 0]),\n",
       " array([0, 0, 0, 0, 1, 0]),\n",
       " array([0, 0, 1, 1, 0, 0]),\n",
       " array([0, 1, 0, 0, 0, 0]),\n",
       " array([0, 1, 0, 0, 0, 0]),\n",
       " array([0, 0, 1, 0, 0, 0]),\n",
       " array([0, 0, 0, 0, 1, 0]),\n",
       " array([0, 1, 0, 0, 0, 0]),\n",
       " array([0, 0, 0, 0, 0, 1]),\n",
       " array([0, 0, 0, 0, 1, 0]),\n",
       " array([0, 0, 0, 0, 0, 0]),\n",
       " array([0, 1, 0, 0, 0, 0]),\n",
       " array([0, 0, 0, 0, 0, 0]),\n",
       " array([0, 0, 0, 0, 0, 1]),\n",
       " array([0, 0, 0, 0, 1, 0]),\n",
       " array([0, 1, 0, 0, 0, 0]),\n",
       " array([0, 0, 0, 0, 1, 0]),\n",
       " array([0, 0, 0, 0, 0, 0]),\n",
       " array([0, 0, 0, 0, 0, 0]),\n",
       " array([0, 0, 0, 0, 1, 0]),\n",
       " array([0, 0, 0, 0, 1, 0]),\n",
       " array([0, 0, 0, 0, 1, 0]),\n",
       " array([0, 0, 0, 0, 0, 0]),\n",
       " array([0, 0, 0, 0, 0, 1]),\n",
       " array([0, 0, 0, 1, 0, 0]),\n",
       " array([0, 0, 0, 0, 0, 0]),\n",
       " array([0, 1, 0, 0, 0, 0]),\n",
       " array([0, 1, 0, 0, 0, 1]),\n",
       " array([0, 1, 0, 0, 0, 0]),\n",
       " array([0, 1, 0, 0, 0, 0]),\n",
       " array([0, 0, 0, 0, 0, 1]),\n",
       " array([0, 0, 0, 0, 0, 1]),\n",
       " array([0, 0, 0, 0, 0, 1]),\n",
       " array([0, 1, 0, 0, 0, 0]),\n",
       " array([0, 0, 0, 0, 0, 1]),\n",
       " array([0, 1, 0, 0, 0, 0]),\n",
       " array([0, 0, 0, 1, 0, 0]),\n",
       " array([0, 0, 0, 0, 0, 0]),\n",
       " array([0, 0, 0, 0, 0, 1]),\n",
       " array([0, 1, 0, 0, 0, 0]),\n",
       " array([0, 1, 0, 0, 0, 0]),\n",
       " array([0, 0, 0, 0, 0, 1]),\n",
       " array([0, 1, 0, 0, 0, 0]),\n",
       " array([0, 0, 0, 0, 0, 0]),\n",
       " array([0, 0, 0, 0, 0, 0]),\n",
       " array([0, 0, 0, 0, 0, 0]),\n",
       " array([0, 0, 0, 0, 0, 0]),\n",
       " array([0, 0, 0, 0, 1, 0]),\n",
       " array([0, 0, 1, 0, 0, 0]),\n",
       " array([0, 0, 0, 0, 0, 1]),\n",
       " array([0, 1, 0, 0, 0, 0]),\n",
       " array([0, 1, 0, 0, 0, 0]),\n",
       " array([0, 0, 1, 0, 0, 0]),\n",
       " array([0, 0, 0, 1, 0, 0]),\n",
       " array([0, 1, 0, 0, 0, 0]),\n",
       " array([0, 1, 0, 0, 0, 0]),\n",
       " array([0, 0, 0, 0, 0, 1]),\n",
       " array([0, 0, 1, 0, 0, 0])]"
      ]
     },
     "execution_count": 34,
     "metadata": {},
     "output_type": "execute_result"
    }
   ],
   "source": [
    "class_predictions"
   ]
  },
  {
   "cell_type": "code",
   "execution_count": 302,
   "metadata": {},
   "outputs": [
    {
     "name": "stdout",
     "output_type": "stream",
     "text": [
      "             precision    recall  f1-score   support\n",
      "\n",
      "       ABBR       0.06      0.89      0.11         9\n",
      "       DESC       0.74      0.54      0.62       138\n",
      "       ENTY       0.83      0.48      0.61        94\n",
      "        HUM       0.89      0.85      0.87        65\n",
      "        LOC       0.95      0.70      0.81        81\n",
      "        NUM       0.97      0.76      0.85       113\n",
      "\n",
      "avg / total       0.85      0.65      0.72       500\n",
      "\n"
     ]
    }
   ],
   "source": [
    "## compute predictions\n",
    "raw_predictions = model.predict(x_test)[0]\n",
    "\n",
    "## convert raw predictions to class indexes\n",
    "threshold = 0.5\n",
    "class_predictions = [(x > threshold).astype(int) for x in model.predict(x_test)]\n",
    "\n",
    "## select only one class (i.e., the dim in the vector with 1.0 all other are at 0.0)\n",
    "class_index = ([np.argmax(x) for x in class_predictions])\n",
    "\n",
    "## convert back to original class names\n",
    "pred_classes = le.inverse_transform(class_index)\n",
    "\n",
    "## print precision, recall, f1-score report\n",
    "print(classification_report(y_test, pred_classes))"
   ]
  },
  {
   "cell_type": "markdown",
   "metadata": {
    "collapsed": true
   },
   "source": [
    "## CNN-static: A model with pre-trained vectors from word2vec. All words— including the unknown ones that are randomly initialized—are kept static and only the other parameters of the model are learned."
   ]
  },
  {
   "cell_type": "markdown",
   "metadata": {},
   "source": [
    "## loading GloVe Embeddings"
   ]
  },
  {
   "cell_type": "code",
   "execution_count": 315,
   "metadata": {},
   "outputs": [
    {
     "name": "stdout",
     "output_type": "stream",
     "text": [
      "Found 400000 word vectors.\n"
     ]
    }
   ],
   "source": [
    "glove_dir = '/Users/dsbatista/resources/glove.6B'\n",
    "\n",
    "embeddings_index = {}\n",
    "f = open(os.path.join(glove_dir, 'glove.6B.100d.txt'))\n",
    "for line in f:\n",
    "    values = line.split()\n",
    "    word = values[0]\n",
    "    coefs = np.asarray(values[1:], dtype='float32')\n",
    "    embeddings_index[word] = coefs\n",
    "f.close()\n",
    "\n",
    "print('Found %s word vectors.' % len(embeddings_index))"
   ]
  },
  {
   "cell_type": "markdown",
   "metadata": {},
   "source": [
    "## Create Embeddings matrix"
   ]
  },
  {
   "cell_type": "code",
   "execution_count": 316,
   "metadata": {
    "collapsed": true
   },
   "outputs": [],
   "source": [
    "embedding_dim = 100\n",
    "max_words = 10000\n",
    "\n",
    "embedding_matrix = np.zeros((max_words, embedding_dim))\n",
    "for word, i in word_index.items():\n",
    "    if i < max_words:\n",
    "        embedding_vector = embeddings_index.get(word)\n",
    "        if embedding_vector is not None:\n",
    "            embedding_matrix[i] = embedding_vector"
   ]
  },
  {
   "cell_type": "code",
   "execution_count": 319,
   "metadata": {
    "collapsed": true
   },
   "outputs": [],
   "source": [
    "embedding_layer = Embedding(input_dim=embedding_matrix.shape[0],\n",
    "                            output_dim=embedding_matrix.shape[1], \n",
    "                            input_length=max_len, \n",
    "                            weights=[embedding_matrix], \n",
    "                            trainable=False, \n",
    "                            name='embedding_layer')"
   ]
  },
  {
   "cell_type": "code",
   "execution_count": 323,
   "metadata": {
    "collapsed": true
   },
   "outputs": [],
   "source": [
    "i = Input(shape=(max_len,), dtype='int32', name='main_input')\n",
    "x = embedding_layer(i)\n",
    "x = Conv1D(filters=embedding_dim, kernel_size=5, name='Convolutions')(x)\n",
    "x = MaxPooling1D(pool_size=2, strides=None, name='Pooling', padding='valid')(x)\n",
    "x = Flatten(name='flatten')(x)\n",
    "o = Dense(6, activation='sigmoid', name='output')(x)\n",
    "model = Model(inputs=i, outputs=o)"
   ]
  },
  {
   "cell_type": "code",
   "execution_count": 324,
   "metadata": {},
   "outputs": [
    {
     "name": "stdout",
     "output_type": "stream",
     "text": [
      "_________________________________________________________________\n",
      "Layer (type)                 Output Shape              Param #   \n",
      "=================================================================\n",
      "main_input (InputLayer)      (None, 37)                0         \n",
      "_________________________________________________________________\n",
      "embedding_layer (Embedding)  (None, 37, 100)           1000000   \n",
      "_________________________________________________________________\n",
      "Convolutions (Conv1D)        (None, 33, 100)           50100     \n",
      "_________________________________________________________________\n",
      "Pooling (MaxPooling1D)       (None, 16, 100)           0         \n",
      "_________________________________________________________________\n",
      "flatten (Flatten)            (None, 1600)              0         \n",
      "_________________________________________________________________\n",
      "output (Dense)               (None, 6)                 9606      \n",
      "=================================================================\n",
      "Total params: 1,059,706\n",
      "Trainable params: 59,706\n",
      "Non-trainable params: 1,000,000\n",
      "_________________________________________________________________\n"
     ]
    }
   ],
   "source": [
    "model.summary()\n",
    "model.compile(loss={'output': 'binary_crossentropy'}, optimizer='adam')"
   ]
  },
  {
   "cell_type": "code",
   "execution_count": 325,
   "metadata": {},
   "outputs": [
    {
     "data": {
      "image/svg+xml": [
       "<svg height=\"458pt\" viewBox=\"0.00 0.00 353.44 458.00\" width=\"353pt\" xmlns=\"http://www.w3.org/2000/svg\" xmlns:xlink=\"http://www.w3.org/1999/xlink\">\n",
       "<g class=\"graph\" id=\"graph0\" transform=\"scale(1 1) rotate(0) translate(4 454)\">\n",
       "<title>G</title>\n",
       "<polygon fill=\"#ffffff\" points=\"-4,4 -4,-454 349.4385,-454 349.4385,4 -4,4\" stroke=\"transparent\"/>\n",
       "<!-- 5480468888 -->\n",
       "<g class=\"node\" id=\"node1\">\n",
       "<title>5480468888</title>\n",
       "<polygon fill=\"none\" points=\"31.8828,-405.5 31.8828,-449.5 313.5557,-449.5 313.5557,-405.5 31.8828,-405.5\" stroke=\"#000000\"/>\n",
       "<text fill=\"#000000\" font-family=\"Times,serif\" font-size=\"14.00\" text-anchor=\"middle\" x=\"106.5605\" y=\"-423.3\">main_input: InputLayer</text>\n",
       "<polyline fill=\"none\" points=\"181.2383,-405.5 181.2383,-449.5 \" stroke=\"#000000\"/>\n",
       "<text fill=\"#000000\" font-family=\"Times,serif\" font-size=\"14.00\" text-anchor=\"middle\" x=\"209.0728\" y=\"-434.3\">input:</text>\n",
       "<polyline fill=\"none\" points=\"181.2383,-427.5 236.9072,-427.5 \" stroke=\"#000000\"/>\n",
       "<text fill=\"#000000\" font-family=\"Times,serif\" font-size=\"14.00\" text-anchor=\"middle\" x=\"209.0728\" y=\"-412.3\">output:</text>\n",
       "<polyline fill=\"none\" points=\"236.9072,-405.5 236.9072,-449.5 \" stroke=\"#000000\"/>\n",
       "<text fill=\"#000000\" font-family=\"Times,serif\" font-size=\"14.00\" text-anchor=\"middle\" x=\"275.2314\" y=\"-434.3\">(None, 37)</text>\n",
       "<polyline fill=\"none\" points=\"236.9072,-427.5 313.5557,-427.5 \" stroke=\"#000000\"/>\n",
       "<text fill=\"#000000\" font-family=\"Times,serif\" font-size=\"14.00\" text-anchor=\"middle\" x=\"275.2314\" y=\"-412.3\">(None, 37)</text>\n",
       "</g>\n",
       "<!-- 5251796888 -->\n",
       "<g class=\"node\" id=\"node2\">\n",
       "<title>5251796888</title>\n",
       "<polygon fill=\"none\" points=\"0,-324.5 0,-368.5 345.4385,-368.5 345.4385,-324.5 0,-324.5\" stroke=\"#000000\"/>\n",
       "<text fill=\"#000000\" font-family=\"Times,serif\" font-size=\"14.00\" text-anchor=\"middle\" x=\"92.5605\" y=\"-342.3\">embedding_layer: Embedding</text>\n",
       "<polyline fill=\"none\" points=\"185.1211,-324.5 185.1211,-368.5 \" stroke=\"#000000\"/>\n",
       "<text fill=\"#000000\" font-family=\"Times,serif\" font-size=\"14.00\" text-anchor=\"middle\" x=\"212.9556\" y=\"-353.3\">input:</text>\n",
       "<polyline fill=\"none\" points=\"185.1211,-346.5 240.79,-346.5 \" stroke=\"#000000\"/>\n",
       "<text fill=\"#000000\" font-family=\"Times,serif\" font-size=\"14.00\" text-anchor=\"middle\" x=\"212.9556\" y=\"-331.3\">output:</text>\n",
       "<polyline fill=\"none\" points=\"240.79,-324.5 240.79,-368.5 \" stroke=\"#000000\"/>\n",
       "<text fill=\"#000000\" font-family=\"Times,serif\" font-size=\"14.00\" text-anchor=\"middle\" x=\"293.1143\" y=\"-353.3\">(None, 37)</text>\n",
       "<polyline fill=\"none\" points=\"240.79,-346.5 345.4385,-346.5 \" stroke=\"#000000\"/>\n",
       "<text fill=\"#000000\" font-family=\"Times,serif\" font-size=\"14.00\" text-anchor=\"middle\" x=\"293.1143\" y=\"-331.3\">(None, 37, 100)</text>\n",
       "</g>\n",
       "<!-- 5480468888&#45;&gt;5251796888 -->\n",
       "<g class=\"edge\" id=\"edge1\">\n",
       "<title>5480468888-&gt;5251796888</title>\n",
       "<path d=\"M172.7192,-405.3664C172.7192,-397.1516 172.7192,-387.6579 172.7192,-378.7252\" fill=\"none\" stroke=\"#000000\"/>\n",
       "<polygon fill=\"#000000\" points=\"176.2193,-378.6068 172.7192,-368.6068 169.2193,-378.6069 176.2193,-378.6068\" stroke=\"#000000\"/>\n",
       "</g>\n",
       "<!-- 5480176552 -->\n",
       "<g class=\"node\" id=\"node3\">\n",
       "<title>5480176552</title>\n",
       "<polygon fill=\"none\" points=\"19.4141,-243.5 19.4141,-287.5 326.0244,-287.5 326.0244,-243.5 19.4141,-243.5\" stroke=\"#000000\"/>\n",
       "<text fill=\"#000000\" font-family=\"Times,serif\" font-size=\"14.00\" text-anchor=\"middle\" x=\"92.5605\" y=\"-261.3\">Convolutions: Conv1D</text>\n",
       "<polyline fill=\"none\" points=\"165.707,-243.5 165.707,-287.5 \" stroke=\"#000000\"/>\n",
       "<text fill=\"#000000\" font-family=\"Times,serif\" font-size=\"14.00\" text-anchor=\"middle\" x=\"193.5415\" y=\"-272.3\">input:</text>\n",
       "<polyline fill=\"none\" points=\"165.707,-265.5 221.376,-265.5 \" stroke=\"#000000\"/>\n",
       "<text fill=\"#000000\" font-family=\"Times,serif\" font-size=\"14.00\" text-anchor=\"middle\" x=\"193.5415\" y=\"-250.3\">output:</text>\n",
       "<polyline fill=\"none\" points=\"221.376,-243.5 221.376,-287.5 \" stroke=\"#000000\"/>\n",
       "<text fill=\"#000000\" font-family=\"Times,serif\" font-size=\"14.00\" text-anchor=\"middle\" x=\"273.7002\" y=\"-272.3\">(None, 37, 100)</text>\n",
       "<polyline fill=\"none\" points=\"221.376,-265.5 326.0244,-265.5 \" stroke=\"#000000\"/>\n",
       "<text fill=\"#000000\" font-family=\"Times,serif\" font-size=\"14.00\" text-anchor=\"middle\" x=\"273.7002\" y=\"-250.3\">(None, 33, 100)</text>\n",
       "</g>\n",
       "<!-- 5251796888&#45;&gt;5480176552 -->\n",
       "<g class=\"edge\" id=\"edge2\">\n",
       "<title>5251796888-&gt;5480176552</title>\n",
       "<path d=\"M172.7192,-324.3664C172.7192,-316.1516 172.7192,-306.6579 172.7192,-297.7252\" fill=\"none\" stroke=\"#000000\"/>\n",
       "<polygon fill=\"#000000\" points=\"176.2193,-297.6068 172.7192,-287.6068 169.2193,-297.6069 176.2193,-297.6068\" stroke=\"#000000\"/>\n",
       "</g>\n",
       "<!-- 5480111296 -->\n",
       "<g class=\"node\" id=\"node4\">\n",
       "<title>5480111296</title>\n",
       "<polygon fill=\"none\" points=\"15.9141,-162.5 15.9141,-206.5 329.5244,-206.5 329.5244,-162.5 15.9141,-162.5\" stroke=\"#000000\"/>\n",
       "<text fill=\"#000000\" font-family=\"Times,serif\" font-size=\"14.00\" text-anchor=\"middle\" x=\"92.5605\" y=\"-180.3\">Pooling: MaxPooling1D</text>\n",
       "<polyline fill=\"none\" points=\"169.207,-162.5 169.207,-206.5 \" stroke=\"#000000\"/>\n",
       "<text fill=\"#000000\" font-family=\"Times,serif\" font-size=\"14.00\" text-anchor=\"middle\" x=\"197.0415\" y=\"-191.3\">input:</text>\n",
       "<polyline fill=\"none\" points=\"169.207,-184.5 224.876,-184.5 \" stroke=\"#000000\"/>\n",
       "<text fill=\"#000000\" font-family=\"Times,serif\" font-size=\"14.00\" text-anchor=\"middle\" x=\"197.0415\" y=\"-169.3\">output:</text>\n",
       "<polyline fill=\"none\" points=\"224.876,-162.5 224.876,-206.5 \" stroke=\"#000000\"/>\n",
       "<text fill=\"#000000\" font-family=\"Times,serif\" font-size=\"14.00\" text-anchor=\"middle\" x=\"277.2002\" y=\"-191.3\">(None, 33, 100)</text>\n",
       "<polyline fill=\"none\" points=\"224.876,-184.5 329.5244,-184.5 \" stroke=\"#000000\"/>\n",
       "<text fill=\"#000000\" font-family=\"Times,serif\" font-size=\"14.00\" text-anchor=\"middle\" x=\"277.2002\" y=\"-169.3\">(None, 16, 100)</text>\n",
       "</g>\n",
       "<!-- 5480176552&#45;&gt;5480111296 -->\n",
       "<g class=\"edge\" id=\"edge3\">\n",
       "<title>5480176552-&gt;5480111296</title>\n",
       "<path d=\"M172.7192,-243.3664C172.7192,-235.1516 172.7192,-225.6579 172.7192,-216.7252\" fill=\"none\" stroke=\"#000000\"/>\n",
       "<polygon fill=\"#000000\" points=\"176.2193,-216.6068 172.7192,-206.6068 169.2193,-216.6069 176.2193,-216.6068\" stroke=\"#000000\"/>\n",
       "</g>\n",
       "<!-- 5480558488 -->\n",
       "<g class=\"node\" id=\"node5\">\n",
       "<title>5480558488</title>\n",
       "<polygon fill=\"none\" points=\"43.9277,-81.5 43.9277,-125.5 301.5107,-125.5 301.5107,-81.5 43.9277,-81.5\" stroke=\"#000000\"/>\n",
       "<text fill=\"#000000\" font-family=\"Times,serif\" font-size=\"14.00\" text-anchor=\"middle\" x=\"92.5605\" y=\"-99.3\">flatten: Flatten</text>\n",
       "<polyline fill=\"none\" points=\"141.1934,-81.5 141.1934,-125.5 \" stroke=\"#000000\"/>\n",
       "<text fill=\"#000000\" font-family=\"Times,serif\" font-size=\"14.00\" text-anchor=\"middle\" x=\"169.0278\" y=\"-110.3\">input:</text>\n",
       "<polyline fill=\"none\" points=\"141.1934,-103.5 196.8623,-103.5 \" stroke=\"#000000\"/>\n",
       "<text fill=\"#000000\" font-family=\"Times,serif\" font-size=\"14.00\" text-anchor=\"middle\" x=\"169.0278\" y=\"-88.3\">output:</text>\n",
       "<polyline fill=\"none\" points=\"196.8623,-81.5 196.8623,-125.5 \" stroke=\"#000000\"/>\n",
       "<text fill=\"#000000\" font-family=\"Times,serif\" font-size=\"14.00\" text-anchor=\"middle\" x=\"249.1865\" y=\"-110.3\">(None, 16, 100)</text>\n",
       "<polyline fill=\"none\" points=\"196.8623,-103.5 301.5107,-103.5 \" stroke=\"#000000\"/>\n",
       "<text fill=\"#000000\" font-family=\"Times,serif\" font-size=\"14.00\" text-anchor=\"middle\" x=\"249.1865\" y=\"-88.3\">(None, 1600)</text>\n",
       "</g>\n",
       "<!-- 5480111296&#45;&gt;5480558488 -->\n",
       "<g class=\"edge\" id=\"edge4\">\n",
       "<title>5480111296-&gt;5480558488</title>\n",
       "<path d=\"M172.7192,-162.3664C172.7192,-154.1516 172.7192,-144.6579 172.7192,-135.7252\" fill=\"none\" stroke=\"#000000\"/>\n",
       "<polygon fill=\"#000000\" points=\"176.2193,-135.6068 172.7192,-125.6068 169.2193,-135.6069 176.2193,-135.6068\" stroke=\"#000000\"/>\n",
       "</g>\n",
       "<!-- 5480468832 -->\n",
       "<g class=\"node\" id=\"node6\">\n",
       "<title>5480468832</title>\n",
       "<polygon fill=\"none\" points=\"52.4829,-.5 52.4829,-44.5 292.9556,-44.5 292.9556,-.5 52.4829,-.5\" stroke=\"#000000\"/>\n",
       "<text fill=\"#000000\" font-family=\"Times,serif\" font-size=\"14.00\" text-anchor=\"middle\" x=\"99.5605\" y=\"-18.3\">output: Dense</text>\n",
       "<polyline fill=\"none\" points=\"146.6382,-.5 146.6382,-44.5 \" stroke=\"#000000\"/>\n",
       "<text fill=\"#000000\" font-family=\"Times,serif\" font-size=\"14.00\" text-anchor=\"middle\" x=\"174.4727\" y=\"-29.3\">input:</text>\n",
       "<polyline fill=\"none\" points=\"146.6382,-22.5 202.3071,-22.5 \" stroke=\"#000000\"/>\n",
       "<text fill=\"#000000\" font-family=\"Times,serif\" font-size=\"14.00\" text-anchor=\"middle\" x=\"174.4727\" y=\"-7.3\">output:</text>\n",
       "<polyline fill=\"none\" points=\"202.3071,-.5 202.3071,-44.5 \" stroke=\"#000000\"/>\n",
       "<text fill=\"#000000\" font-family=\"Times,serif\" font-size=\"14.00\" text-anchor=\"middle\" x=\"247.6313\" y=\"-29.3\">(None, 1600)</text>\n",
       "<polyline fill=\"none\" points=\"202.3071,-22.5 292.9556,-22.5 \" stroke=\"#000000\"/>\n",
       "<text fill=\"#000000\" font-family=\"Times,serif\" font-size=\"14.00\" text-anchor=\"middle\" x=\"247.6313\" y=\"-7.3\">(None, 6)</text>\n",
       "</g>\n",
       "<!-- 5480558488&#45;&gt;5480468832 -->\n",
       "<g class=\"edge\" id=\"edge5\">\n",
       "<title>5480558488-&gt;5480468832</title>\n",
       "<path d=\"M172.7192,-81.3664C172.7192,-73.1516 172.7192,-63.6579 172.7192,-54.7252\" fill=\"none\" stroke=\"#000000\"/>\n",
       "<polygon fill=\"#000000\" points=\"176.2193,-54.6068 172.7192,-44.6068 169.2193,-54.6069 176.2193,-54.6068\" stroke=\"#000000\"/>\n",
       "</g>\n",
       "</g>\n",
       "</svg>"
      ],
      "text/plain": [
       "<IPython.core.display.SVG object>"
      ]
     },
     "execution_count": 325,
     "metadata": {},
     "output_type": "execute_result"
    }
   ],
   "source": [
    "SVG(model_to_dot(model, show_layer_names=True, show_shapes=True).create(prog='dot', format='svg'))"
   ]
  },
  {
   "cell_type": "code",
   "execution_count": 326,
   "metadata": {},
   "outputs": [
    {
     "name": "stdout",
     "output_type": "stream",
     "text": [
      "Train on 3605 samples, validate on 1776 samples\n",
      "Epoch 1/5\n",
      "3605/3605 [==============================] - 1s - loss: 0.3813 - val_loss: 0.3232\n",
      "Epoch 2/5\n",
      "3605/3605 [==============================] - 0s - loss: 0.2816 - val_loss: 0.2797\n",
      "Epoch 3/5\n",
      "3605/3605 [==============================] - 0s - loss: 0.2300 - val_loss: 0.2580\n",
      "Epoch 4/5\n",
      "3605/3605 [==============================] - 0s - loss: 0.1932 - val_loss: 0.2494\n",
      "Epoch 5/5\n",
      "3605/3605 [==============================] - 0s - loss: 0.1649 - val_loss: 0.2464\n"
     ]
    }
   ],
   "source": [
    "history = model.fit(x_train, y_train, epochs=5, batch_size=32, validation_split=0.33, shuffle=False)"
   ]
  },
  {
   "cell_type": "code",
   "execution_count": 327,
   "metadata": {},
   "outputs": [
    {
     "name": "stdout",
     "output_type": "stream",
     "text": [
      "             precision    recall  f1-score   support\n",
      "\n",
      "       ABBR       0.02      0.44      0.04         9\n",
      "       DESC       0.66      0.52      0.58       138\n",
      "       ENTY       0.90      0.29      0.44        94\n",
      "        HUM       0.84      0.82      0.83        65\n",
      "        LOC       1.00      0.53      0.69        81\n",
      "        NUM       1.00      0.43      0.60       113\n",
      "\n",
      "avg / total       0.85      0.50      0.60       500\n",
      "\n"
     ]
    }
   ],
   "source": [
    "## compute predictions\n",
    "raw_predictions = model.predict(x_test)[0]\n",
    "\n",
    "## convert raw predictions to class indexes\n",
    "threshold = 0.5\n",
    "class_predictions = [(x > threshold).astype(int) for x in model.predict(x_test)]\n",
    "\n",
    "## select only one class (i.e., the dim in the vector with 1.0 all other are at 0.0)\n",
    "class_index = ([np.argmax(x) for x in class_predictions])\n",
    "\n",
    "## convert back to original class names\n",
    "pred_classes = le.inverse_transform(class_index)\n",
    "\n",
    "## print precision, recall, f1-score report\n",
    "print(classification_report(y_test, pred_classes))"
   ]
  },
  {
   "cell_type": "code",
   "execution_count": null,
   "metadata": {
    "collapsed": true
   },
   "outputs": [],
   "source": []
  },
  {
   "cell_type": "markdown",
   "metadata": {
    "collapsed": true
   },
   "source": [
    "## CNN-non-static: Same as above but the pre-trained vectors are fine-tuned for each task."
   ]
  },
  {
   "cell_type": "code",
   "execution_count": null,
   "metadata": {
    "collapsed": true
   },
   "outputs": [],
   "source": []
  },
  {
   "cell_type": "code",
   "execution_count": null,
   "metadata": {
    "collapsed": true
   },
   "outputs": [],
   "source": []
  },
  {
   "cell_type": "code",
   "execution_count": null,
   "metadata": {
    "collapsed": true
   },
   "outputs": [],
   "source": []
  },
  {
   "cell_type": "code",
   "execution_count": null,
   "metadata": {
    "collapsed": true
   },
   "outputs": [],
   "source": []
  },
  {
   "cell_type": "markdown",
   "metadata": {},
   "source": [
    "## CNN-multichannel: A model with two sets of word vectors. Each set of vectors is treated as a `channel` and each filter is applied"
   ]
  },
  {
   "cell_type": "code",
   "execution_count": 330,
   "metadata": {
    "collapsed": true
   },
   "outputs": [],
   "source": [
    "from keras.layers import concatenate\n",
    "\n",
    "features_maps = 100\n",
    "n_grams = [3,4,5]\n",
    "\n",
    "input_layer = Input(shape=(max_len,), dtype='int32', name='main_input')\n",
    "x = embedding_layer(input_layer)\n",
    "\n",
    "# rectified linear units, filter windows (h) of 3, 4, 5 with 100 feature maps each\n",
    "branches = []\n",
    "for n in n_grams:\n",
    "    branch = Conv1D(filters=100, kernel_size=3, name='Conv_'+str(n))(x)\n",
    "    branch = MaxPooling1D(pool_size=2, strides=None, padding='valid', name='MaxPooling_'+str(n))(branch)\n",
    "    branch = Flatten(name='Flatten_'+str(n))(branch)\n",
    "    branches.append(branch)\n",
    "\n",
    "z = concatenate(branches, axis=-1)\n",
    "o = Dense(1, activation='sigmoid', name='output')(z)\n",
    "model = Model(inputs=input_layer, outputs=o)\n",
    "model.compile(loss={'output': 'binary_crossentropy'}, optimizer='adam')"
   ]
  },
  {
   "cell_type": "code",
   "execution_count": 1,
   "metadata": {},
   "outputs": [
    {
     "ename": "NameError",
     "evalue": "name 'SVG' is not defined",
     "output_type": "error",
     "traceback": [
      "\u001b[0;31m---------------------------------------------------------------------------\u001b[0m",
      "\u001b[0;31mNameError\u001b[0m                                 Traceback (most recent call last)",
      "\u001b[0;32m<ipython-input-1-4444d9cda49f>\u001b[0m in \u001b[0;36m<module>\u001b[0;34m()\u001b[0m\n\u001b[0;32m----> 1\u001b[0;31m \u001b[0mSVG\u001b[0m\u001b[0;34m(\u001b[0m\u001b[0mmodel_to_dot\u001b[0m\u001b[0;34m(\u001b[0m\u001b[0mmodel\u001b[0m\u001b[0;34m,\u001b[0m \u001b[0mshow_layer_names\u001b[0m\u001b[0;34m=\u001b[0m\u001b[0;32mTrue\u001b[0m\u001b[0;34m,\u001b[0m \u001b[0mshow_shapes\u001b[0m\u001b[0;34m=\u001b[0m\u001b[0;32mTrue\u001b[0m\u001b[0;34m)\u001b[0m\u001b[0;34m.\u001b[0m\u001b[0mcreate\u001b[0m\u001b[0;34m(\u001b[0m\u001b[0mprog\u001b[0m\u001b[0;34m=\u001b[0m\u001b[0;34m'dot'\u001b[0m\u001b[0;34m,\u001b[0m \u001b[0mformat\u001b[0m\u001b[0;34m=\u001b[0m\u001b[0;34m'svg'\u001b[0m\u001b[0;34m)\u001b[0m\u001b[0;34m)\u001b[0m\u001b[0;34m\u001b[0m\u001b[0m\n\u001b[0m",
      "\u001b[0;31mNameError\u001b[0m: name 'SVG' is not defined"
     ]
    }
   ],
   "source": [
    "SVG(model_to_dot(model, show_layer_names=True, show_shapes=True).create(prog='dot', format='svg'))"
   ]
  },
  {
   "cell_type": "code",
   "execution_count": null,
   "metadata": {
    "collapsed": true
   },
   "outputs": [],
   "source": []
  }
 ],
 "metadata": {
  "kernelspec": {
   "display_name": "Python 3",
   "language": "python",
   "name": "python3"
  },
  "language_info": {
   "codemirror_mode": {
    "name": "ipython",
    "version": 3
   },
   "file_extension": ".py",
   "mimetype": "text/x-python",
   "name": "python",
   "nbconvert_exporter": "python",
   "pygments_lexer": "ipython3",
   "version": "3.6.2"
  }
 },
 "nbformat": 4,
 "nbformat_minor": 2
}
